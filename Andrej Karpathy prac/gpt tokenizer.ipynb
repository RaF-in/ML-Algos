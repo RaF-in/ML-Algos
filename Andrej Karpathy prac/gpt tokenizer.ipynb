{
 "cells": [
  {
   "cell_type": "code",
   "execution_count": 8,
   "id": "4dca1da6-7a14-4709-b92f-e72defa63933",
   "metadata": {},
   "outputs": [],
   "source": [
    "ids = list(map(int, \"陪審制（英: Jury system）は、刑事訴訟や民事訴訟の審理に際して、民間から無作為で選ばれた陪審員によって構成される（裁判官を含まない）合議体が評議によって事実認定を行う司法制度である。陪審員の人数は6～ 12名である場合が多く、その合議体を「陪審」という。陪審は、刑事事件では原則として被告人の有罪・無罪について、民事事件では被告の責任の有無や損害賠償額等について判断する。\".encode(\"utf-8\")))"
   ]
  },
  {
   "cell_type": "markdown",
   "id": "4e551a04-04ba-4728-a4bc-6d538cad10c6",
   "metadata": {},
   "source": [
    "1. First build a dictionary of maximum pair occurrence - getStats method\n",
    "2. Replace all the occurences with the new one - Merge method\n",
    "3. Run 20 times to replace top 20 occurences\n",
    "4. Write method for decode and encode"
   ]
  },
  {
   "cell_type": "code",
   "execution_count": null,
   "id": "3dbb941b-9ffe-4754-9bbc-47fdb403706e",
   "metadata": {},
   "outputs": [],
   "source": [
    "def get_stats(ids):\n",
    "    mp = {}\n",
    "    "
   ]
  }
 ],
 "metadata": {
  "kernelspec": {
   "display_name": "Python 3 (ipykernel)",
   "language": "python",
   "name": "python3"
  },
  "language_info": {
   "codemirror_mode": {
    "name": "ipython",
    "version": 3
   },
   "file_extension": ".py",
   "mimetype": "text/x-python",
   "name": "python",
   "nbconvert_exporter": "python",
   "pygments_lexer": "ipython3",
   "version": "3.12.3"
  }
 },
 "nbformat": 4,
 "nbformat_minor": 5
}
