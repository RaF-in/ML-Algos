{
 "cells": [
  {
   "cell_type": "code",
   "execution_count": 1,
   "id": "7f478a9e-61ef-4a13-bf20-4c4171d4caa1",
   "metadata": {},
   "outputs": [],
   "source": [
    "import torch\n",
    "import torch.nn as nn\n",
    "import torch.nn.functional as F"
   ]
  },
  {
   "cell_type": "code",
   "execution_count": 283,
   "id": "baab55ee-c588-4920-824a-1897e092e72a",
   "metadata": {},
   "outputs": [],
   "source": [
    "text = \"\"\n",
    "with open(\"shakes.txt\", \"r\") as f:\n",
    "    text = f.read()"
   ]
  },
  {
   "cell_type": "code",
   "execution_count": 284,
   "id": "adb19af8-bf9e-4f5b-9a8b-58fb68f4b88e",
   "metadata": {},
   "outputs": [],
   "source": [
    "chars = sorted(list(set(text)))\n",
    "vocab_size = len(chars)\n",
    "block_size = 8\n",
    "head_size = 16\n",
    "emb_dim = 32\n",
    "batch_size = 4\n",
    "num_of_decoders = 6\n",
    "num_of_heads = 4\n",
    "dropout = 0.2\n",
    "stoi = {ch:i for i, ch in enumerate(chars)}\n",
    "itos = {i:ch for i, ch in enumerate(chars)}"
   ]
  },
  {
   "cell_type": "code",
   "execution_count": 285,
   "id": "fcf989f9-bed1-4364-8281-994007bea566",
   "metadata": {},
   "outputs": [],
   "source": [
    "encode = lambda s: [stoi[c] for c in s]\n",
    "decode = lambda s: \"\".join([itos[c] for c in s])"
   ]
  },
  {
   "cell_type": "code",
   "execution_count": 286,
   "id": "80ddbcc7-4542-4af4-b52b-e18e7ed6e763",
   "metadata": {},
   "outputs": [],
   "source": [
    "data = torch.tensor(encode(text), dtype=torch.long)"
   ]
  },
  {
   "cell_type": "code",
   "execution_count": 287,
   "id": "38faa9d8-bb2c-4a74-86d9-9b87fc284dfe",
   "metadata": {},
   "outputs": [
    {
     "name": "stdout",
     "output_type": "stream",
     "text": [
      "1003854 111540\n"
     ]
    }
   ],
   "source": [
    "train_sz = int(len(data) * 0.9)\n",
    "train_data = data[:train_sz]\n",
    "val_data = data[train_sz:]\n",
    "print(len(train_data), len(val_data))"
   ]
  },
  {
   "cell_type": "code",
   "execution_count": 288,
   "id": "50d50416-2e7d-4fde-9215-1b2567df9c85",
   "metadata": {},
   "outputs": [],
   "source": [
    "def get_batch(split, batch_size, block_size):\n",
    "    X, Y = None, None\n",
    "    dt = train_data if split == 'train' else val_data\n",
    "    ix = torch.randint(0, len(dt) - block_size, (batch_size, ))\n",
    "    X = torch.stack([data[i:i+block_size] for i in ix])\n",
    "    Y = torch.stack([data[i+1:i+block_size+1] for i in ix])\n",
    "    return X, Y\n",
    "        \n",
    "        "
   ]
  },
  {
   "cell_type": "code",
   "execution_count": 289,
   "id": "d7f4dfc1-229c-4edc-9695-2fa3f20fdd2f",
   "metadata": {},
   "outputs": [
    {
     "data": {
      "text/plain": [
       "torch.Size([8, 65])"
      ]
     },
     "execution_count": 289,
     "metadata": {},
     "output_type": "execute_result"
    }
   ],
   "source": [
    "token_embeddings_table = nn.Embedding(vocab_size, vocab_size)\n",
    "position_embeddings_table = nn.Embedding(block_size, vocab_size)\n",
    "position_embeddings_table(torch.arange(block_size)).shape"
   ]
  },
  {
   "cell_type": "code",
   "execution_count": 290,
   "id": "40dc5c68-df77-4547-8ffe-b596558a4ab9",
   "metadata": {},
   "outputs": [],
   "source": [
    "class Blocks(nn.Module):\n",
    "    def __init__(self):\n",
    "        super().__init__()\n",
    "        self.heads = MultiHead(num_of_heads)\n",
    "        self.ff = FeedForward()\n",
    "        self.headNorm = nn.LayerNorm(emb_dim)\n",
    "        self.ffNorm = nn.LayerNorm(emb_dim)\n",
    "    def __call__(self, x):\n",
    "        x = x + self.heads(self.headNorm(x))\n",
    "        x = x + self.ff(self.ffNorm(x))\n",
    "        return x"
   ]
  },
  {
   "cell_type": "code",
   "execution_count": 291,
   "id": "f104d05e-078b-4c86-bd99-8e5fad193089",
   "metadata": {},
   "outputs": [],
   "source": [
    "class FeedForward(nn.Module):\n",
    "    def __init__(self):\n",
    "        super().__init__()\n",
    "        self.net = nn.Sequential(\n",
    "        nn.Linear(emb_dim, 4 * emb_dim), \n",
    "        nn.ReLU(), \n",
    "        nn.Linear(4 * emb_dim, emb_dim), \n",
    "        nn.Dropout(dropout)\n",
    "        )\n",
    "    def __call__(self, x):\n",
    "        return self.net(x)"
   ]
  },
  {
   "cell_type": "code",
   "execution_count": 292,
   "id": "7dee6232-fb9e-4cb1-ac86-cd352c4ceab0",
   "metadata": {},
   "outputs": [],
   "source": [
    "class MultiHead(nn.Module):\n",
    "    def __init__(self, num_of_head):\n",
    "        super().__init__()\n",
    "        self.heads = nn.ModuleList([Head() for _ in range(num_of_head)])\n",
    "        self.lin = nn.Linear(head_size * num_of_head, emb_dim)\n",
    "        self.dropout = nn.Dropout(dropout)\n",
    "    def __call__(self, x):\n",
    "        out = torch.cat([head(x) for head in self.heads], dim=-1)\n",
    "        out = self.lin(out)\n",
    "        return self.dropout(out)"
   ]
  },
  {
   "cell_type": "code",
   "execution_count": 293,
   "id": "3a8eeb2b-a827-4aee-bbba-e4039e9a42dd",
   "metadata": {},
   "outputs": [],
   "source": [
    "class Head(nn.Module):\n",
    "    # single self attention head\n",
    "    def __init__(self):\n",
    "        super().__init__()\n",
    "        self.query = nn.Linear(emb_dim, head_size, bias=False)\n",
    "        self.key = nn.Linear(emb_dim, head_size, bias=False)\n",
    "        self.value = nn.Linear(emb_dim, head_size, bias=False)\n",
    "        self.dropout = nn.Dropout(dropout)\n",
    "        \n",
    "    def __call__(self, x):\n",
    "        B, T, C = x.shape\n",
    "        q, k, v = self.query(x), self.key(x), self.value(x)\n",
    "        we = q @ k.transpose(-2, -1)\n",
    "        we = we * (head_size ** -0.5)\n",
    "        we = we.masked_fill(torch.tril(torch.ones(T, T)) == 0, float('-inf'))\n",
    "        we = torch.softmax(we, -1)\n",
    "        we = self.dropout(we)\n",
    "        out = we @ v\n",
    "        return out"
   ]
  },
  {
   "cell_type": "code",
   "execution_count": 294,
   "id": "ef875728-e650-43fb-b905-139c61a6ef48",
   "metadata": {},
   "outputs": [],
   "source": [
    "class BigramLanguageModel(nn.Module):\n",
    "    def __init__(self, vocab_size):\n",
    "        super().__init__()\n",
    "        self.token_embeddings_table = nn.Embedding(vocab_size, emb_dim)\n",
    "        self.position_embeddings_table = nn.Embedding(block_size, emb_dim)\n",
    "        self.blocks = nn.Sequential(*[Blocks() for _ in range(num_of_decoders)])\n",
    "        self.lNorm = nn.LayerNorm(emb_dim)\n",
    "        self.lin = nn.Linear(emb_dim, vocab_size)\n",
    "    def forward(self, idx, y=None):\n",
    "        embs = self.token_embeddings_table(idx)\n",
    "        poss = self.position_embeddings_table(torch.arange(block_size))\n",
    "        x = embs + poss\n",
    "        x = self.blocks(x)\n",
    "        x = self.lNorm(x)\n",
    "        logits = self.lin(x)\n",
    "        loss = None\n",
    "        if y != None:\n",
    "            B, T, C = logits.shape\n",
    "            logits2 = logits.view(B*T, C)\n",
    "            ys = y.view(-1)\n",
    "            loss = F.cross_entropy(logits2, ys)\n",
    "        return logits, loss\n",
    "    def generate(self, idx, max_chars):\n",
    "        for _ in range(max_chars):\n",
    "            logits, loss = self(idx)\n",
    "            logits = logits[:, -1, :]\n",
    "            probs = F.softmax(logits, 1)\n",
    "            ix = torch.multinomial(probs, num_samples=1)\n",
    "            idx = torch.cat((idx, ix), 1)\n",
    "        return idx\n",
    "        "
   ]
  },
  {
   "cell_type": "code",
   "execution_count": 295,
   "id": "568be176-db83-4607-b981-c04dfe31651a",
   "metadata": {},
   "outputs": [],
   "source": [
    "model = BigramLanguageModel(vocab_size)\n",
    "# Xs, Ys = get_batch('train', 4, 8)\n",
    "# logits, loss = model.forward(Xs, Ys)\n",
    "# decode(model.generate(torch.zeros(1, 1, dtype=torch.long), 150)[0].tolist())"
   ]
  },
  {
   "cell_type": "code",
   "execution_count": 306,
   "id": "9675afc0-228a-4355-8025-ea005ad9ca13",
   "metadata": {},
   "outputs": [],
   "source": [
    "max_iter = 20000\n",
    "learning_rate = 1e-3\n",
    "loss\n",
    "optimizer = torch.optim.AdamW(model.parameters(), lr=learning_rate)\n",
    "losses = []\n",
    "for _ in range(max_iter):\n",
    "    Xb, Yb = get_batch('train', batch_size, block_size)\n",
    "    logits, loss = model(Xb, Yb)\n",
    "    optimizer.zero_grad(set_to_none=True)\n",
    "    loss.backward()\n",
    "    optimizer.step()\n",
    "    losses.append(loss.item())"
   ]
  },
  {
   "cell_type": "code",
   "execution_count": 303,
   "id": "634a3c97-a9df-4cca-880c-e459a02b5da7",
   "metadata": {},
   "outputs": [
    {
     "name": "stdout",
     "output_type": "stream",
     "text": [
      "Mean: 2.0764315750598907\n"
     ]
    }
   ],
   "source": [
    "mean = sum(losses) / len(losses)\n",
    "print(\"Mean:\", mean)"
   ]
  },
  {
   "cell_type": "code",
   "execution_count": 304,
   "id": "c7b7d1de-7bc9-40fc-901a-ea3baabd0578",
   "metadata": {},
   "outputs": [
    {
     "name": "stdout",
     "output_type": "stream",
     "text": [
      "2.0478105545043945\n"
     ]
    }
   ],
   "source": [
    "# Test on val data\n",
    "\n",
    "with torch.no_grad():\n",
    "    X, Y = get_batch('111540', 111540, block_size)\n",
    "    logits, loss = model(X, Y)\n",
    "    print(loss.item())"
   ]
  },
  {
   "cell_type": "code",
   "execution_count": 305,
   "id": "83bf37bc-f5d2-4455-8127-0c4798f0637d",
   "metadata": {},
   "outputs": [
    {
     "ename": "RuntimeError",
     "evalue": "The size of tensor a (2) must match the size of tensor b (8) at non-singleton dimension 1",
     "output_type": "error",
     "traceback": [
      "\u001b[1;31m---------------------------------------------------------------------------\u001b[0m",
      "\u001b[1;31mRuntimeError\u001b[0m                              Traceback (most recent call last)",
      "Cell \u001b[1;32mIn[305], line 1\u001b[0m\n\u001b[1;32m----> 1\u001b[0m decode(\u001b[43mmodel\u001b[49m\u001b[38;5;241;43m.\u001b[39;49m\u001b[43mgenerate\u001b[49m\u001b[43m(\u001b[49m\u001b[43mtorch\u001b[49m\u001b[38;5;241;43m.\u001b[39;49m\u001b[43mzeros\u001b[49m\u001b[43m(\u001b[49m\u001b[38;5;241;43m1\u001b[39;49m\u001b[43m,\u001b[49m\u001b[43m \u001b[49m\u001b[38;5;241;43m1\u001b[39;49m\u001b[43m,\u001b[49m\u001b[43m \u001b[49m\u001b[43mdtype\u001b[49m\u001b[38;5;241;43m=\u001b[39;49m\u001b[43mtorch\u001b[49m\u001b[38;5;241;43m.\u001b[39;49m\u001b[43mlong\u001b[49m\u001b[43m)\u001b[49m\u001b[43m,\u001b[49m\u001b[43m \u001b[49m\u001b[38;5;241;43m150\u001b[39;49m\u001b[43m)\u001b[49m[\u001b[38;5;241m0\u001b[39m]\u001b[38;5;241m.\u001b[39mtolist())\n",
      "Cell \u001b[1;32mIn[294], line 25\u001b[0m, in \u001b[0;36mBigramLanguageModel.generate\u001b[1;34m(self, idx, max_chars)\u001b[0m\n\u001b[0;32m     23\u001b[0m \u001b[38;5;28;01mdef\u001b[39;00m \u001b[38;5;21mgenerate\u001b[39m(\u001b[38;5;28mself\u001b[39m, idx, max_chars):\n\u001b[0;32m     24\u001b[0m     \u001b[38;5;28;01mfor\u001b[39;00m _ \u001b[38;5;129;01min\u001b[39;00m \u001b[38;5;28mrange\u001b[39m(max_chars):\n\u001b[1;32m---> 25\u001b[0m         logits, loss \u001b[38;5;241m=\u001b[39m \u001b[38;5;28;43mself\u001b[39;49m\u001b[43m(\u001b[49m\u001b[43midx\u001b[49m\u001b[43m)\u001b[49m\n\u001b[0;32m     26\u001b[0m         logits \u001b[38;5;241m=\u001b[39m logits[:, \u001b[38;5;241m-\u001b[39m\u001b[38;5;241m1\u001b[39m, :]\n\u001b[0;32m     27\u001b[0m         probs \u001b[38;5;241m=\u001b[39m F\u001b[38;5;241m.\u001b[39msoftmax(logits, \u001b[38;5;241m1\u001b[39m)\n",
      "File \u001b[1;32m~\\AppData\\Local\\Programs\\Python\\Python312\\Lib\\site-packages\\torch\\nn\\modules\\module.py:1739\u001b[0m, in \u001b[0;36mModule._wrapped_call_impl\u001b[1;34m(self, *args, **kwargs)\u001b[0m\n\u001b[0;32m   1737\u001b[0m     \u001b[38;5;28;01mreturn\u001b[39;00m \u001b[38;5;28mself\u001b[39m\u001b[38;5;241m.\u001b[39m_compiled_call_impl(\u001b[38;5;241m*\u001b[39margs, \u001b[38;5;241m*\u001b[39m\u001b[38;5;241m*\u001b[39mkwargs)  \u001b[38;5;66;03m# type: ignore[misc]\u001b[39;00m\n\u001b[0;32m   1738\u001b[0m \u001b[38;5;28;01melse\u001b[39;00m:\n\u001b[1;32m-> 1739\u001b[0m     \u001b[38;5;28;01mreturn\u001b[39;00m \u001b[38;5;28;43mself\u001b[39;49m\u001b[38;5;241;43m.\u001b[39;49m\u001b[43m_call_impl\u001b[49m\u001b[43m(\u001b[49m\u001b[38;5;241;43m*\u001b[39;49m\u001b[43margs\u001b[49m\u001b[43m,\u001b[49m\u001b[43m \u001b[49m\u001b[38;5;241;43m*\u001b[39;49m\u001b[38;5;241;43m*\u001b[39;49m\u001b[43mkwargs\u001b[49m\u001b[43m)\u001b[49m\n",
      "File \u001b[1;32m~\\AppData\\Local\\Programs\\Python\\Python312\\Lib\\site-packages\\torch\\nn\\modules\\module.py:1750\u001b[0m, in \u001b[0;36mModule._call_impl\u001b[1;34m(self, *args, **kwargs)\u001b[0m\n\u001b[0;32m   1745\u001b[0m \u001b[38;5;66;03m# If we don't have any hooks, we want to skip the rest of the logic in\u001b[39;00m\n\u001b[0;32m   1746\u001b[0m \u001b[38;5;66;03m# this function, and just call forward.\u001b[39;00m\n\u001b[0;32m   1747\u001b[0m \u001b[38;5;28;01mif\u001b[39;00m \u001b[38;5;129;01mnot\u001b[39;00m (\u001b[38;5;28mself\u001b[39m\u001b[38;5;241m.\u001b[39m_backward_hooks \u001b[38;5;129;01mor\u001b[39;00m \u001b[38;5;28mself\u001b[39m\u001b[38;5;241m.\u001b[39m_backward_pre_hooks \u001b[38;5;129;01mor\u001b[39;00m \u001b[38;5;28mself\u001b[39m\u001b[38;5;241m.\u001b[39m_forward_hooks \u001b[38;5;129;01mor\u001b[39;00m \u001b[38;5;28mself\u001b[39m\u001b[38;5;241m.\u001b[39m_forward_pre_hooks\n\u001b[0;32m   1748\u001b[0m         \u001b[38;5;129;01mor\u001b[39;00m _global_backward_pre_hooks \u001b[38;5;129;01mor\u001b[39;00m _global_backward_hooks\n\u001b[0;32m   1749\u001b[0m         \u001b[38;5;129;01mor\u001b[39;00m _global_forward_hooks \u001b[38;5;129;01mor\u001b[39;00m _global_forward_pre_hooks):\n\u001b[1;32m-> 1750\u001b[0m     \u001b[38;5;28;01mreturn\u001b[39;00m \u001b[43mforward_call\u001b[49m\u001b[43m(\u001b[49m\u001b[38;5;241;43m*\u001b[39;49m\u001b[43margs\u001b[49m\u001b[43m,\u001b[49m\u001b[43m \u001b[49m\u001b[38;5;241;43m*\u001b[39;49m\u001b[38;5;241;43m*\u001b[39;49m\u001b[43mkwargs\u001b[49m\u001b[43m)\u001b[49m\n\u001b[0;32m   1752\u001b[0m result \u001b[38;5;241m=\u001b[39m \u001b[38;5;28;01mNone\u001b[39;00m\n\u001b[0;32m   1753\u001b[0m called_always_called_hooks \u001b[38;5;241m=\u001b[39m \u001b[38;5;28mset\u001b[39m()\n",
      "Cell \u001b[1;32mIn[294], line 12\u001b[0m, in \u001b[0;36mBigramLanguageModel.forward\u001b[1;34m(self, idx, y)\u001b[0m\n\u001b[0;32m     10\u001b[0m embs \u001b[38;5;241m=\u001b[39m \u001b[38;5;28mself\u001b[39m\u001b[38;5;241m.\u001b[39mtoken_embeddings_table(idx)\n\u001b[0;32m     11\u001b[0m poss \u001b[38;5;241m=\u001b[39m \u001b[38;5;28mself\u001b[39m\u001b[38;5;241m.\u001b[39mposition_embeddings_table(torch\u001b[38;5;241m.\u001b[39marange(block_size))\n\u001b[1;32m---> 12\u001b[0m x \u001b[38;5;241m=\u001b[39m \u001b[43membs\u001b[49m\u001b[43m \u001b[49m\u001b[38;5;241;43m+\u001b[39;49m\u001b[43m \u001b[49m\u001b[43mposs\u001b[49m\n\u001b[0;32m     13\u001b[0m x \u001b[38;5;241m=\u001b[39m \u001b[38;5;28mself\u001b[39m\u001b[38;5;241m.\u001b[39mblocks(x)\n\u001b[0;32m     14\u001b[0m x \u001b[38;5;241m=\u001b[39m \u001b[38;5;28mself\u001b[39m\u001b[38;5;241m.\u001b[39mlNorm(x)\n",
      "\u001b[1;31mRuntimeError\u001b[0m: The size of tensor a (2) must match the size of tensor b (8) at non-singleton dimension 1"
     ]
    }
   ],
   "source": [
    "decode(model.generate(torch.zeros(1, 1, dtype=torch.long), 150)[0].tolist())"
   ]
  },
  {
   "cell_type": "code",
   "execution_count": 31,
   "id": "64d17b75-fa8e-44d8-b601-c5943080da1f",
   "metadata": {},
   "outputs": [
    {
     "data": {
      "text/plain": [
       "torch.Size([4, 8, 16])"
      ]
     },
     "execution_count": 31,
     "metadata": {},
     "output_type": "execute_result"
    }
   ],
   "source": [
    "# simple self attention\n",
    "x = torch.randn(4, 8, 32)\n",
    "B, T, C = x.shape\n",
    "head_size = 16\n",
    "query, key, value = nn.Linear(C, head_size, bias=False), nn.Linear(C, head_size, bias=False), nn.Linear(C, head_size, bias=False)\n",
    "q, k, v = query(x), key(x), value(x)\n",
    "we = q @ k.transpose(-2, -1)\n",
    "we = we.masked_fill(torch.tril(torch.ones(T, T)) == 0, float('-inf')) # decoder self attention\n",
    "we.shape\n",
    "we = torch.softmax(we, -1)\n",
    "out = we @ v\n",
    "out.shape"
   ]
  },
  {
   "cell_type": "code",
   "execution_count": 7,
   "id": "484b4f4e-484a-4233-abde-e552c4740a0e",
   "metadata": {},
   "outputs": [
    {
     "data": {
      "text/plain": [
       "tensor([[[2, 2],\n",
       "         [0, 2],\n",
       "         [0, 3]],\n",
       "\n",
       "        [[2, 0],\n",
       "         [0, 2],\n",
       "         [3, 1]],\n",
       "\n",
       "        [[2, 4],\n",
       "         [2, 4],\n",
       "         [3, 3]],\n",
       "\n",
       "        [[1, 1],\n",
       "         [3, 3],\n",
       "         [2, 3]]])"
      ]
     },
     "execution_count": 7,
     "metadata": {},
     "output_type": "execute_result"
    }
   ],
   "source": [
    "X = torch.randint(5, (4, 3, 2))\n",
    "X"
   ]
  },
  {
   "cell_type": "code",
   "execution_count": 10,
   "id": "9452d138-b7ee-4a5c-90c9-927e586720c6",
   "metadata": {},
   "outputs": [
    {
     "data": {
      "text/plain": [
       "torch.Size([4, 3, 2, 50])"
      ]
     },
     "execution_count": 10,
     "metadata": {},
     "output_type": "execute_result"
    }
   ],
   "source": [
    "C = torch.randn(27, 50)\n",
    "C[X].shape"
   ]
  }
 ],
 "metadata": {
  "kernelspec": {
   "display_name": "Python 3 (ipykernel)",
   "language": "python",
   "name": "python3"
  },
  "language_info": {
   "codemirror_mode": {
    "name": "ipython",
    "version": 3
   },
   "file_extension": ".py",
   "mimetype": "text/x-python",
   "name": "python",
   "nbconvert_exporter": "python",
   "pygments_lexer": "ipython3",
   "version": "3.12.3"
  }
 },
 "nbformat": 4,
 "nbformat_minor": 5
}
