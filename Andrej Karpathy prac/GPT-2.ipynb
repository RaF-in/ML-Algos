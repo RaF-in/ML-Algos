{
 "cells": [
  {
   "cell_type": "code",
   "execution_count": 52,
   "id": "6bdf83b3-17c6-4577-a55a-0b108cfc343c",
   "metadata": {},
   "outputs": [],
   "source": [
    "import torch\n",
    "import torch.nn as nn\n",
    "from torch.nn import functional as F\n",
    "from dataclasses import dataclass\n",
    "import math"
   ]
  },
  {
   "cell_type": "code",
   "execution_count": 26,
   "id": "3a2b5e9f-8a48-43e8-ab0e-88bec0fd4dce",
   "metadata": {},
   "outputs": [],
   "source": [
    "@dataclass\n",
    "class GPTConfig:\n",
    "    block_size: int = 1024\n",
    "    n_layer: int = 12\n",
    "    n_head: int = 12\n",
    "    n_embd: int = 768\n",
    "    vocab_size: int = 50257"
   ]
  },
  {
   "cell_type": "code",
   "execution_count": 27,
   "id": "a096836a-4266-4af1-9bac-c46ce6af02aa",
   "metadata": {},
   "outputs": [],
   "source": [
    "class CasualSelfAttention(nn.Module):\n",
    "    def __init__(self, config):\n",
    "        super().__init__()\n",
    "        self.c_attn = nn.Linear(config.n_embd, 3 * config.n_embd)\n",
    "        self.c_proj = nn.Linear(config.n_embd, config.n_embd)\n",
    "        self.n_head = config.n_head\n",
    "        self.n_embd = config.n_embd\n",
    "        self.register_buffer(\"bias\", torch.tril(torch.ones(config.block_size, config.block_size)).view(1, 1, config.block_size, config.block_size))\n",
    "    def forward(self, x):\n",
    "        B, T, C = x.shape\n",
    "        qkv = self.c_attn(x) # B, T, 3 * C\n",
    "        q, k, v = qkv.split(self.n_embd, dim=2)\n",
    "        q = q.view(B, T, self.n_head, C//self.n_head).transpose(1,2) # B, nh, T, hs\n",
    "        k = k.view(B, T, self.n_head, C//self.n_head).transpose(1,2) # B, nh, T, hs\n",
    "        v = v.view(B, T, self.n_head, C//self.n_head).transpose(1,2) # B, nh, T, hs\n",
    "        wei = (q @ k.transpose(-2, -1)) * (1.0 / math.sqrt(k.size(-1)))  # # B, nh, T, T\n",
    "        wei = wei.masked_fill(self.bias[:,:,:T,:T] == 0, float(\"-inf\"))\n",
    "        wei = F.softmax(wei, dim=-1) \n",
    "        out = wei @ v # B, nh, T, hs\n",
    "        return self.c_proj(out.transpose(1, 2).contiguous().view(B, T, C))\n",
    "        "
   ]
  },
  {
   "cell_type": "code",
   "execution_count": 28,
   "id": "7fcad5be-27c9-41f3-a104-a9ee6a8ec3c1",
   "metadata": {},
   "outputs": [],
   "source": [
    "class MLP(nn.Module):\n",
    "    def __init__(self, config):\n",
    "        super().__init__()\n",
    "        self.c_fc = nn.Linear(config.n_embd, config.n_embd * 4)\n",
    "        self.gelu = nn.GELU(approximate='tanh')\n",
    "        self.c_proj = nn.Linear(config.n_embd * 4, config.n_embd)\n",
    "    def forward(self, x):\n",
    "        x = self.c_fc(x)\n",
    "        x = self.gelu(x)\n",
    "        x = self.c_proj(x)\n",
    "        return x"
   ]
  },
  {
   "cell_type": "code",
   "execution_count": 29,
   "id": "373a5afe-84b8-48ea-9459-bb87b1106380",
   "metadata": {},
   "outputs": [],
   "source": [
    "class Block(nn.Module):\n",
    "    def __init__(self, config):\n",
    "        super().__init__()\n",
    "        self.ln_1 = nn.LayerNorm(config.n_embd)\n",
    "        self.attn = CasualSelfAttention(config)\n",
    "        self.ln_2 = nn.LayerNorm(config.n_embd)\n",
    "        self.mlp = MLP(config)\n",
    "    def forward(self, x):\n",
    "        x = x + self.attn(self.ln_1(x))\n",
    "        x = x + self.mlp(self.ln_2(x))\n",
    "        return x"
   ]
  },
  {
   "cell_type": "code",
   "execution_count": 30,
   "id": "1468c6f2-75d4-424d-876f-bffad6835c42",
   "metadata": {},
   "outputs": [],
   "source": [
    "class GPT(nn.Module):\n",
    "    def __init__(self, config):\n",
    "        super().__init__()\n",
    "        self.config = config\n",
    "        self.transformer = nn.ModuleDict(dict(\n",
    "        wte = nn.Embedding(config.vocab_size, config.n_embd),\n",
    "        wpe = nn.Embedding(config.block_size, config.n_embd),\n",
    "        h = nn.ModuleList([Block(config) for _ in range(config.n_layer)]),\n",
    "        ln_f = nn.LayerNorm(config.n_embd)))\n",
    "        self.lm_head = nn.Linear(config.n_embd, config.vocab_size, bias=False)\n",
    "    def forward(self, idx):\n",
    "        B, T = idx.shape\n",
    "        pos = torch.arange(0, T, dtype=torch.long, device=idx.device) # T\n",
    "        pos_embd = self.transformer.wpe(pos) # T, C\n",
    "        tok_embd = self.transformer.wte(idx) # B, T, C\n",
    "        x = pos_embd + tok_embd # B, T, C\n",
    "        for block in self.transformer.h:\n",
    "            x = block(x)\n",
    "        x = self.transformer.ln_f(x)\n",
    "        logits = self.lm_head(x) # (B, T, vocab_size)\n",
    "        return logits\n",
    "            \n",
    "    @classmethod\n",
    "    def from_pretrained(cls, model_type):\n",
    "        \"\"\"Loads pretrained GPT-2 model weights from huggingface\"\"\"\n",
    "        assert model_type in {'gpt2', 'gpt2-medium', 'gpt2-large', 'gpt2-xl'}\n",
    "        from transformers import GPT2LMHeadModel\n",
    "        print(\"loading weights from pretrained gpt: %s\" % model_type)\n",
    "\n",
    "        # n_layer, n_head and n_embd are determined from model_type\n",
    "        config_args = {\n",
    "            'gpt2':         dict(n_layer=12, n_head=12, n_embd=768),  # 124M params\n",
    "            'gpt2-medium':  dict(n_layer=24, n_head=16, n_embd=1024), # 350M params\n",
    "            'gpt2-large':   dict(n_layer=36, n_head=20, n_embd=1280), # 774M params\n",
    "            'gpt2-xl':      dict(n_layer=48, n_head=25, n_embd=1600), # 1558M params\n",
    "        }[model_type]\n",
    "        config_args['vocab_size'] = 50257 # always 50257 for GPT model checkpoints\n",
    "        config_args['block_size'] = 1024 # always 1024 for GPT model checkpoints\n",
    "        # create a from-scratch initialized minGPT model\n",
    "        config = GPTConfig(**config_args)\n",
    "        model = GPT(config)\n",
    "        sd = model.state_dict()\n",
    "        sd_keys = sd.keys()\n",
    "        sd_keys = [k for k in sd_keys if not k.endswith('.attn.bias')] # discard this mask / buffer, not a param\n",
    "\n",
    "        # init a huggingface/transformers model\n",
    "        model_hf = GPT2LMHeadModel.from_pretrained(model_type)\n",
    "        sd_hf = model_hf.state_dict()\n",
    "\n",
    "        # copy while ensuring all of the parameters are aligned and match in names and shapes\n",
    "        sd_keys_hf = sd_hf.keys()\n",
    "        sd_keys_hf = [k for k in sd_keys_hf if not k.endswith('.attn.masked_bias')] # ignore these, just a buffer\n",
    "        sd_keys_hf = [k for k in sd_keys_hf if not k.endswith('.attn.bias')] # same, just the mask (buffer)\n",
    "        transposed = ['attn.c_attn.weight', 'attn.c_proj.weight', 'mlp.c_fc.weight', 'mlp.c_proj.weight']\n",
    "        # basically the openai checkpoints use a \"Conv1D\" module, but we only want to use a vanilla Linear\n",
    "        # this means that we have to transpose these weights when we import them\n",
    "        assert len(sd_keys_hf) == len(sd_keys), f\"mismatched keys: {len(sd_keys_hf)} != {len(sd_keys)}\"\n",
    "        for k in sd_keys_hf:\n",
    "            if any(k.endswith(w) for w in transposed):\n",
    "                # special treatment for the Conv1D weights we need to transpose\n",
    "                assert sd_hf[k].shape[::-1] == sd[k].shape\n",
    "                with torch.no_grad():\n",
    "                    sd[k].copy_(sd_hf[k].t())\n",
    "            else:\n",
    "                # vanilla copy over the other parameters\n",
    "                assert sd_hf[k].shape == sd[k].shape\n",
    "                with torch.no_grad():\n",
    "                    sd[k].copy_(sd_hf[k])\n",
    "\n",
    "        return model"
   ]
  },
  {
   "cell_type": "code",
   "execution_count": 32,
   "id": "d08e5f1f-0656-4a00-944f-d8c9557c75c8",
   "metadata": {},
   "outputs": [
    {
     "name": "stdout",
     "output_type": "stream",
     "text": [
      "loading weights from pretrained gpt: gpt2\n",
      "didn't crash yay!\n"
     ]
    }
   ],
   "source": [
    "model = GPT.from_pretrained('gpt2')\n",
    "print(\"didn't crash yay!\")"
   ]
  },
  {
   "cell_type": "code",
   "execution_count": 44,
   "id": "06f114c2-52fa-4fef-bf52-28913d235e3d",
   "metadata": {},
   "outputs": [],
   "source": [
    "model.eval()\n",
    "max_length = 30\n",
    "num_return_sequences = 5\n",
    "\n",
    "import tiktoken\n",
    "enc = tiktoken.get_encoding('gpt2')\n",
    "token = enc.encode(\"Hello, I'm a language model,\")\n",
    "token = torch.tensor(token, dtype=torch.long)\n",
    "token = token.unsqueeze(0).repeat(num_return_sequences, 1)"
   ]
  },
  {
   "cell_type": "code",
   "execution_count": 57,
   "id": "5f561263-d5ad-404f-84ee-e0e70b7a8f17",
   "metadata": {},
   "outputs": [
    {
     "name": "stdout",
     "output_type": "stream",
     "text": [
      "torch.Size([5, 8])\n"
     ]
    }
   ],
   "source": [
    "x = token.clone()\n",
    "print(x.shape)\n",
    "while x.shape[1] < max_length:\n",
    "    with torch.no_grad():\n",
    "        logits = model(x)\n",
    "        logits = logits[:, -1, :] # (B, vocab_size)\n",
    "        probs = F.softmax(logits, -1)\n",
    "        topK, topKInd = torch.topk(probs, 50)\n",
    "        ix = torch.multinomial(topK, num_samples=1)\n",
    "        ids = torch.gather(topKInd, dim=-1, index=ix)\n",
    "        x = torch.cat((x, ids), dim=1)"
   ]
  },
  {
   "cell_type": "code",
   "execution_count": 62,
   "id": "090f9ae7-89a0-4a7e-a1c2-7dc08a35bc16",
   "metadata": {},
   "outputs": [
    {
     "name": "stdout",
     "output_type": "stream",
     "text": [
      "Hello, I'm a language model, so I don't take them all. Instead I think in this context, I find them helpful and useful in\n",
      "\n",
      "\n",
      "Hello, I'm a language model, I'm a framework, and I've never heard of this.\"\n",
      "\n",
      "A recent Harvard thesis, \"C\n",
      "\n",
      "\n",
      "Hello, I'm a language model, one with a lot of structure, a lot of variables and it's a bit cumbersome to read, so I\n",
      "\n",
      "\n",
      "Hello, I'm a language model, let's start with a simple one.\n",
      "\n",
      "A language model means the model is as simple as possible for\n",
      "\n",
      "\n",
      "Hello, I'm a language model, a model that we could all live with. We built the whole thing in languages like C++, Perl.\n",
      "\n",
      "\n"
     ]
    }
   ],
   "source": [
    "for i in range(num_return_sequences):\n",
    "    tokens = x[i].tolist()\n",
    "    print(enc.decode(tokens))\n",
    "    print(\"\\n\")"
   ]
  }
 ],
 "metadata": {
  "kernelspec": {
   "display_name": "Python 3 (ipykernel)",
   "language": "python",
   "name": "python3"
  },
  "language_info": {
   "codemirror_mode": {
    "name": "ipython",
    "version": 3
   },
   "file_extension": ".py",
   "mimetype": "text/x-python",
   "name": "python",
   "nbconvert_exporter": "python",
   "pygments_lexer": "ipython3",
   "version": "3.12.3"
  }
 },
 "nbformat": 4,
 "nbformat_minor": 5
}
