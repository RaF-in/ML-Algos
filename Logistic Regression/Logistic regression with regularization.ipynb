{
 "cells": [
  {
   "cell_type": "code",
   "execution_count": 370,
   "id": "4c2fe922-a60c-4764-946b-9991f93103b4",
   "metadata": {},
   "outputs": [],
   "source": [
    "from sklearn.datasets import make_classification\n",
    "import numpy as np\n",
    "import matplotlib.pyplot as plt\n",
    "from sklearn.linear_model import LogisticRegression"
   ]
  },
  {
   "cell_type": "code",
   "execution_count": 371,
   "id": "4050766e-b93d-471c-a1c9-1b3689a31823",
   "metadata": {},
   "outputs": [],
   "source": [
    "X,y = make_classification(n_samples=100, n_features=2, n_informative=1,n_redundant=0,\n",
    "                           n_classes=2, n_clusters_per_class=1, random_state=41,hypercube=False,class_sep=10)\n"
   ]
  },
  {
   "cell_type": "code",
   "execution_count": 372,
   "id": "44ead25d-d813-42cc-b689-c498b4febdf9",
   "metadata": {},
   "outputs": [
    {
     "name": "stdout",
     "output_type": "stream",
     "text": [
      "[[14.68386075  1.09977046]] [9.82976692]\n"
     ]
    }
   ],
   "source": [
    "lg = LogisticRegression(penalty='l2',C=1/(2*0.004),solver='sag', max_iter=2000)\n",
    "lg.fit(X,y)\n",
    "print(lg.coef_,lg.intercept_)\n",
    "\n"
   ]
  },
  {
   "cell_type": "code",
   "execution_count": 373,
   "id": "cbc685fd-1cac-4240-9875-39276a666526",
   "metadata": {},
   "outputs": [],
   "source": [
    "def sigmoid(z):\n",
    "    return 1/(1 + np.exp(-z))"
   ]
  },
  {
   "cell_type": "code",
   "execution_count": 374,
   "id": "ba53d371-02e5-4315-a2e7-3969ae0e1e56",
   "metadata": {},
   "outputs": [],
   "source": [
    "def calculate_cost(X, y, W, alpha):\n",
    "    m = len(y)  # Number of training examples\n",
    "\n",
    "    # Predicted probabilities\n",
    "    y_hat = sigmoid(np.dot(X, W))\n",
    "\n",
    "    # Log-loss (avoid log(0) by adding a small epsilon)\n",
    "    epsilon = 1e-15  # To prevent log(0) errors\n",
    "    log_loss = - (1 / m) * np.sum(\n",
    "        y * np.log(y_hat + epsilon) + (1 - y) * np.log(1 - y_hat + epsilon)\n",
    "    )\n",
    "\n",
    "    # L2 Regularization (excluding bias term W[0])\n",
    "    regularization = alpha * np.sum(W[1:] ** 2)\n",
    "\n",
    "    # Total cost\n",
    "    total_cost = log_loss + regularization\n",
    "    return total_cost"
   ]
  },
  {
   "cell_type": "code",
   "execution_count": 375,
   "id": "b0e8a117-4ce0-46b4-a4f0-08635dfc2097",
   "metadata": {},
   "outputs": [],
   "source": [
    "class LogWithLin:\n",
    "    def __init__(self,alpha,epochs,lr):\n",
    "        self.epoch = epochs\n",
    "        self.lr = lr\n",
    "        self.alpha = alpha\n",
    "    def fit(self,X,y):\n",
    "        costs = []\n",
    "        X = np.insert(X, 0, 1, axis=1)  # Add bias term to X\n",
    "        W = np.zeros(X.shape[1])  # Initialize weights, including bias term\n",
    "        \n",
    "        # Gradient descent\n",
    "        for epoch in range(self.epoch):\n",
    "            y_hat = sigmoid(np.dot(X, W))  # Predicted values using the sigmoid function\n",
    "            \n",
    "            # Calculate gradient with regularization (excluding the bias term)\n",
    "            # gradient = (1 / X.shape[0]) * np.dot(X.T, (y_hat - y))  # Logistic regression gradient\n",
    "            gradient = - (1 / X.shape[0]) * np.dot((y - y_hat),X)  # Logistic regression gradient\n",
    "            regularization = 2 * self.alpha * W  # Regularization term\n",
    "            regularization[0] = 0  # Exclude bias term from regularization\n",
    "            \n",
    "            # Update weights\n",
    "            W = W - self.lr * (gradient + regularization)\n",
    "            \n",
    "            costs.append(calculate_cost(X,y,W,self.alpha))\n",
    "        # plt.plot(np.arange(0,self.epoch),costs)\n",
    "        print(W[1:],W[0])\n",
    "        print(lg.coef_,lg.intercept_)\n",
    "        m, b = lg.coef_[0][0] / lg.coef_[0][1], lg.intercept_[0]/lg.coef_[0][1]\n",
    "        XX = np.linspace(-4,5,100)\n",
    "        print(m,b)\n",
    "        plt.plot(XX, m * XX + b)\n",
    "        # plt.scatter(X[:,0],X[:,1])\n",
    "        m, b = W[1] / W[2],  W[0] / W[2]\n",
    "        print(m,b)\n",
    "        plt.plot(XX, m * XX + b)\n",
    "        plt.show()"
   ]
  },
  {
   "cell_type": "code",
   "execution_count": 376,
   "id": "793e26d6-dd81-4963-8663-42911056ff71",
   "metadata": {},
   "outputs": [
    {
     "name": "stdout",
     "output_type": "stream",
     "text": [
      "[3.76187208 0.03365936] 2.4384047230355748\n",
      "[[14.68386075  1.09977046]] [9.82976692]\n",
      "13.351750446114485 8.938016855368355\n",
      "111.76302360585835 72.44358092233264\n"
     ]
    },
    {
     "data": {
      "image/png": "[encoded data removed]",
      "text/plain": [
       "<Figure size 640x480 with 1 Axes>"
      ]
     },
     "metadata": {},
     "output_type": "display_data"
    }
   ],
   "source": [
    "logLin = LogWithLin(0.004,2000,0.6)\n",
    "logLin.fit(X,y)"
   ]
  }
 ],
 "metadata": {
  "kernelspec": {
   "display_name": "Python 3 (ipykernel)",
   "language": "python",
   "name": "python3"
  },
  "language_info": {
   "codemirror_mode": {
    "name": "ipython",
    "version": 3
   },
   "file_extension": ".py",
   "mimetype": "text/x-python",
   "name": "python",
   "nbconvert_exporter": "python",
   "pygments_lexer": "ipython3",
   "version": "3.12.3"
  }
 },
 "nbformat": 4,
 "nbformat_minor": 5
}
