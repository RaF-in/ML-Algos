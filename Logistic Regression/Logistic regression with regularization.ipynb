{
 "cells": [
  {
   "cell_type": "code",
   "execution_count": 7,
   "id": "4c2fe922-a60c-4764-946b-9991f93103b4",
   "metadata": {},
   "outputs": [],
   "source": [
    "from sklearn.datasets import make_classification\n",
    "import numpy as np"
   ]
  },
  {
   "cell_type": "code",
   "execution_count": 8,
   "id": "4050766e-b93d-471c-a1c9-1b3689a31823",
   "metadata": {},
   "outputs": [],
   "source": [
    "X,y = make_classification(n_samples=100, n_features=2, n_informative=1,n_redundant=0,\n",
    "                           n_classes=2, n_clusters_per_class=1, random_state=41,hypercube=False,class_sep=10)"
   ]
  },
  {
   "cell_type": "code",
   "execution_count": 9,
   "id": "5089b861-f881-4e04-b8e5-5b0f20ae964a",
   "metadata": {},
   "outputs": [],
   "source": [
    "from sklearn.linear_model import LogisticRegression"
   ]
  },
  {
   "cell_type": "code",
   "execution_count": 13,
   "id": "44ead25d-d813-42cc-b689-c498b4febdf9",
   "metadata": {},
   "outputs": [
    {
     "name": "stdout",
     "output_type": "stream",
     "text": [
      "[[11.98898996  0.80228396]] [8.00199976]\n"
     ]
    },
    {
     "name": "stderr",
     "output_type": "stream",
     "text": [
      "C:\\Users\\shafneaz\\AppData\\Local\\Programs\\Python\\Python312\\Lib\\site-packages\\sklearn\\linear_model\\_sag.py:349: ConvergenceWarning: The max_iter was reached which means the coef_ did not converge\n",
      "  warnings.warn(\n"
     ]
    }
   ],
   "source": [
    "lg = LogisticRegression(penalty='l2',C=100,solver='sag')\n",
    "lg.fit(X,y)\n",
    "print(lg.coef_,lg.intercept_)"
   ]
  },
  {
   "cell_type": "code",
   "execution_count": null,
   "id": "b0e8a117-4ce0-46b4-a4f0-08635dfc2097",
   "metadata": {},
   "outputs": [],
   "source": [
    "class LogWithLin:\n",
    "    def __init__(self,alpha,epochs,lr):\n",
    "        self.epoch = epochs\n",
    "        self.lr = lr\n",
    "        self.alpha = alpha\n",
    "    def fit(self,X,y):\n",
    "        X = np.insert(X,0,1,axis=1)\n",
    "        W = np.ones(X.shape[1])\n",
    "        y_"
   ]
  }
 ],
 "metadata": {
  "kernelspec": {
   "display_name": "Python 3 (ipykernel)",
   "language": "python",
   "name": "python3"
  },
  "language_info": {
   "codemirror_mode": {
    "name": "ipython",
    "version": 3
   },
   "file_extension": ".py",
   "mimetype": "text/x-python",
   "name": "python",
   "nbconvert_exporter": "python",
   "pygments_lexer": "ipython3",
   "version": "3.12.3"
  }
 },
 "nbformat": 4,
 "nbformat_minor": 5
}
