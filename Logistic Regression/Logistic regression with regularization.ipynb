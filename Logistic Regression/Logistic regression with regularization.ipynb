{
 "cells": [
  {
   "cell_type": "code",
   "execution_count": 448,
   "id": "4c2fe922-a60c-4764-946b-9991f93103b4",
   "metadata": {},
   "outputs": [],
   "source": [
    "from sklearn.datasets import make_classification\n",
    "import numpy as np\n",
    "import matplotlib.pyplot as plt\n",
    "from sklearn.linear_model import LogisticRegression\n",
    "from sklearn.model_selection import train_test_split\n",
    "from sklearn.metrics import accuracy_score"
   ]
  },
  {
   "cell_type": "code",
   "execution_count": 449,
   "id": "4050766e-b93d-471c-a1c9-1b3689a31823",
   "metadata": {},
   "outputs": [],
   "source": [
    "X,y = make_classification(n_samples=10000, n_features=100, n_informative=99,n_redundant=0,\n",
    "                           n_classes=2, n_clusters_per_class=1, random_state=41,hypercube=False,class_sep=2)\n",
    "X_train, X_test, y_train, y_test = train_test_split(X, y, test_size=0.2, random_state=42)"
   ]
  },
  {
   "cell_type": "code",
   "execution_count": 455,
   "id": "44ead25d-d813-42cc-b689-c498b4febdf9",
   "metadata": {},
   "outputs": [
    {
     "name": "stdout",
     "output_type": "stream",
     "text": [
      "[[ 0.01540902  0.00700142  0.09626616  0.07150765 -0.09962642  0.0102566\n",
      "   0.19675433  0.0179843  -0.07998826 -0.02010313  0.04526448 -0.06025824\n",
      "   0.02091673 -0.02007851  0.00686627  0.03521297 -0.10905308  0.0021096\n",
      "  -0.048317   -0.11652629 -0.02365766  0.0895453  -0.00154558  0.04119973\n",
      "   0.13422981  0.01447508  0.10612478 -0.06413443 -0.01053078  0.05362042\n",
      "   0.01297784  0.00199687  0.06857107 -0.02702486  0.01234991 -0.06221938\n",
      "   0.02553532  0.11703191 -0.06256231 -0.08338657 -0.04836251 -0.07006202\n",
      "   0.14268832 -0.0300649  -0.01769519 -0.07144187  0.05732455  0.01926764\n",
      "  -0.02456052 -0.02361014  0.07767602  0.00848543 -0.02123702  0.02381217\n",
      "   0.04110186 -0.01695007 -0.02559222 -0.00555138 -0.03421094 -0.04246625\n",
      "  -0.02617041  0.01217874  0.01593934 -0.19029107 -0.11041572 -0.00688758\n",
      "  -0.02540988 -0.02384251 -0.03327897  0.10619877 -0.00683845 -0.03880176\n",
      "   0.06152804 -0.0308017  -0.04405967  0.03292257  0.00557105 -0.10465605\n",
      "   0.01649547  0.03556234  0.03624679 -0.07503654 -0.02099784  0.05651403\n",
      "  -0.07673741  0.00492113  0.01788078  0.07198135  0.05554013 -0.03073001\n",
      "  -0.00776786 -0.00168918  0.00336596  0.06599664 -0.07269197  0.01187504\n",
      "   0.1006081  -0.01689417  0.06523516  0.05828088]] [-0.47032222]\n"
     ]
    }
   ],
   "source": [
    "lg = LogisticRegression(penalty='l2',C=1/(2*0.004),solver='liblinear', max_iter=200)\n",
    "lg.fit(X_train,y_train)\n",
    "y_pred_sklearn = lg.predict(X_test)\n",
    "print(lg.coef_,lg.intercept_)\n",
    "\n"
   ]
  },
  {
   "cell_type": "code",
   "execution_count": 451,
   "id": "cbc685fd-1cac-4240-9875-39276a666526",
   "metadata": {},
   "outputs": [],
   "source": [
    "def sigmoid(z):\n",
    "    return 1/(1 + np.exp(-z))"
   ]
  },
  {
   "cell_type": "code",
   "execution_count": 452,
   "id": "ba53d371-02e5-4315-a2e7-3969ae0e1e56",
   "metadata": {},
   "outputs": [],
   "source": [
    "def calculate_cost(X, y, W, alpha):\n",
    "    m = len(y)  # Number of training examples\n",
    "\n",
    "    # Predicted probabilities\n",
    "    y_hat = sigmoid(np.dot(X, W))\n",
    "\n",
    "    # Log-loss (avoid log(0) by adding a small epsilon)\n",
    "    epsilon = 1e-15  # To prevent log(0) errors\n",
    "    log_loss = - (1 / m) * np.sum(\n",
    "        y * np.log(y_hat + epsilon) + (1 - y) * np.log(1 - y_hat + epsilon)\n",
    "    )\n",
    "\n",
    "    # L2 Regularization (excluding bias term W[0])\n",
    "    regularization = alpha * np.sum(W[1:] ** 2)\n",
    "\n",
    "    # Total cost\n",
    "    total_cost = log_loss + regularization\n",
    "    return total_cost"
   ]
  },
  {
   "cell_type": "code",
   "execution_count": 453,
   "id": "b0e8a117-4ce0-46b4-a4f0-08635dfc2097",
   "metadata": {},
   "outputs": [],
   "source": [
    "class LogWithLin:\n",
    "    def __init__(self,alpha,epochs,lr):\n",
    "        self.epoch = epochs\n",
    "        self.lr = lr\n",
    "        self.alpha = alpha\n",
    "        self.coef_ = None\n",
    "    def fit(self,X,y):\n",
    "        costs = []\n",
    "        X = np.insert(X, 0, 1, axis=1)  # Add bias term to X\n",
    "        W = np.zeros(X.shape[1])  # Initialize weights, including bias term\n",
    "        \n",
    "        # Gradient descent\n",
    "        for epoch in range(self.epoch):\n",
    "            y_hat = sigmoid(np.dot(X, W))  # Predicted values using the sigmoid function\n",
    "            \n",
    "            # Calculate gradient with regularization (excluding the bias term)\n",
    "            # gradient = (1 / X.shape[0]) * np.dot(X.T, (y_hat - y))  # Logistic regression gradient\n",
    "            gradient = - (1 / X.shape[0]) * np.dot((y - y_hat),X)  # Logistic regression gradient\n",
    "            regularization = 2 * self.alpha * W  # Regularization term\n",
    "            regularization[0] = 0  # Exclude bias term from regularization\n",
    "            \n",
    "            # Update weights\n",
    "            W = W - self.lr * (gradient + regularization)\n",
    "            \n",
    "            costs.append(calculate_cost(X,y,W,self.alpha))\n",
    "        plt.plot(np.arange(0,self.epoch),costs)\n",
    "        self.coef_ = W\n",
    "        # print(W[1:],W[0])\n",
    "        # print(lg.coef_,lg.intercept_)\n",
    "        # m, b = lg.coef_[0][0] / lg.coef_[0][1], lg.intercept_[0]/lg.coef_[0][1]\n",
    "        # XX = np.linspace(-4,5,100)\n",
    "        # print(m,b)\n",
    "        # plt.plot(XX, m * XX + b)\n",
    "        # # plt.scatter(X[:,0],X[:,1])\n",
    "        # m, b = W[1] / W[2],  W[0] / W[2]\n",
    "        # print(m,b)\n",
    "        # plt.plot(XX, m * XX + b)\n",
    "        # plt.show()\n",
    "    def predict(self,X):\n",
    "        if X.shape[1] == len(self.coef_) - 1:\n",
    "            X = np.insert(X, 0, 1, axis=1)\n",
    "        y_hat = sigmoid(np.dot(X, self.coef_))\n",
    "    \n",
    "        # Convert probabilities to class labels (threshold = 0.5)\n",
    "        return (y_hat >= 0.5).astype(int)"
   ]
  },
  {
   "cell_type": "code",
   "execution_count": 454,
   "id": "793e26d6-dd81-4963-8663-42911056ff71",
   "metadata": {},
   "outputs": [
    {
     "name": "stdout",
     "output_type": "stream",
     "text": [
      "Accuracy (My Model): 0.799\n",
      "Accuracy (sklearn Model): 0.799\n"
     ]
    },
    {
     "data": {
      "image/png": "[encoded data removed]",
      "text/plain": [
       "<Figure size 640x480 with 1 Axes>"
      ]
     },
     "metadata": {},
     "output_type": "display_data"
    }
   ],
   "source": [
    "logLin = LogWithLin(0.01,250,0.1)\n",
    "logLin.fit(X_train,y_train)\n",
    "y_pred_my_model = logLin.predict(X_test)\n",
    "accuracy_my_model = accuracy_score(y_test, y_pred_my_model)\n",
    "accuracy_sklearn = accuracy_score(y_test, y_pred_sklearn)\n",
    "\n",
    "print(f\"Accuracy (My Model): {accuracy_my_model}\")\n",
    "print(f\"Accuracy (sklearn Model): {accuracy_sklearn}\")"
   ]
  },
  {
   "cell_type": "code",
   "execution_count": null,
   "id": "bf803ff6-e8dd-4ef9-9408-235844b1504d",
   "metadata": {},
   "outputs": [],
   "source": []
  }
 ],
 "metadata": {
  "kernelspec": {
   "display_name": "Python 3 (ipykernel)",
   "language": "python",
   "name": "python3"
  },
  "language_info": {
   "codemirror_mode": {
    "name": "ipython",
    "version": 3
   },
   "file_extension": ".py",
   "mimetype": "text/x-python",
   "name": "python",
   "nbconvert_exporter": "python",
   "pygments_lexer": "ipython3",
   "version": "3.12.3"
  }
 },
 "nbformat": 4,
 "nbformat_minor": 5
}
