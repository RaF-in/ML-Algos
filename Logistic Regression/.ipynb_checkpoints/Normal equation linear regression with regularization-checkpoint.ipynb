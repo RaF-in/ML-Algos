{
 "cells": [
  {
   "cell_type": "code",
   "execution_count": 47,
   "id": "e9129842-1e48-4242-9f52-51b9767ff4e6",
   "metadata": {},
   "outputs": [],
   "source": [
    "from sklearn.datasets import load_diabetes\n",
    "from sklearn.model_selection import train_test_split\n",
    "import numpy as np\n",
    "from sklearn.metrics import r2_score,accuracy_score"
   ]
  },
  {
   "cell_type": "code",
   "execution_count": 48,
   "id": "5f3a9951-43fe-495d-a487-9b102a93fb40",
   "metadata": {},
   "outputs": [],
   "source": [
    "X,y = load_diabetes(return_X_y=True)"
   ]
  },
  {
   "cell_type": "code",
   "execution_count": 49,
   "id": "48590fbc-0ab9-49e9-93b7-38189971925c",
   "metadata": {},
   "outputs": [],
   "source": [
    "X_train,X_test,y_train,y_test = train_test_split(X,y,test_size=0.2,random_state=2)"
   ]
  },
  {
   "cell_type": "code",
   "execution_count": 50,
   "id": "29cfca2c-7a82-4dd1-a39f-7a402671a60a",
   "metadata": {},
   "outputs": [],
   "source": [
    "class NormalEqWithLinear:\n",
    "    def __init__(self, alpha):\n",
    "        self.alpha = alpha\n",
    "        self.coef_ = None\n",
    "        self.intercept_ = None\n",
    "    def fit(self,X_train,y_train):\n",
    "        X_train = np.insert(X_train,0,1,axis=1)\n",
    "        I = np.identity(X_train.shape[1])\n",
    "        I[0] = 0\n",
    "        W = np.linalg.inv(np.dot(X_train.T,X_train) + self.alpha * I).dot(X_train.T).dot(y_train)\n",
    "        self.intercept_ = W[0]\n",
    "        self.coef_ = W[1:]\n",
    "    def predict(self,X_test):\n",
    "        return np.dot(X_test,self.coef_) + self.intercept_"
   ]
  },
  {
   "cell_type": "code",
   "execution_count": 51,
   "id": "5050c0c4-2b1d-4b4c-bf2f-9921898d8954",
   "metadata": {},
   "outputs": [
    {
     "name": "stdout",
     "output_type": "stream",
     "text": [
      "0.45199494197195456\n"
     ]
    }
   ],
   "source": [
    "newL = NormalEqWithLinear(alpha=0.1)\n",
    "newL.fit(X_train,y_train)\n",
    "y_predL = newL.predict(X_test)\n",
    "print(r2_score(y_test,y_predL))"
   ]
  },
  {
   "cell_type": "markdown",
   "id": "22525e50-2459-4990-942a-2b3e7b1f3eb4",
   "metadata": {},
   "source": [
    "# Ridge"
   ]
  },
  {
   "cell_type": "code",
   "execution_count": 52,
   "id": "041558de-8ad5-41b3-a17e-88c446e0dd23",
   "metadata": {},
   "outputs": [],
   "source": [
    "from sklearn.linear_model import Ridge"
   ]
  },
  {
   "cell_type": "code",
   "execution_count": 53,
   "id": "323d32d1-4d02-4351-8e7a-15d389af06e7",
   "metadata": {},
   "outputs": [],
   "source": [
    "rdg = Ridge(alpha=0.1,solver='cholesky')\n",
    "# cholesky uses normal eq"
   ]
  },
  {
   "cell_type": "code",
   "execution_count": 54,
   "id": "3a13c64c-7f6b-46d4-bfee-e45f43c01601",
   "metadata": {},
   "outputs": [
    {
     "data": {
      "text/plain": [
       "0.45199494197195456"
      ]
     },
     "execution_count": 54,
     "metadata": {},
     "output_type": "execute_result"
    }
   ],
   "source": [
    "rdg.fit(X_train,y_train)\n",
    "y_pred_rd = rdg.predict(X_test)\n",
    "r2_score(y_test,y_pred_rd)"
   ]
  }
 ],
 "metadata": {
  "kernelspec": {
   "display_name": "Python 3 (ipykernel)",
   "language": "python",
   "name": "python3"
  },
  "language_info": {
   "codemirror_mode": {
    "name": "ipython",
    "version": 3
   },
   "file_extension": ".py",
   "mimetype": "text/x-python",
   "name": "python",
   "nbconvert_exporter": "python",
   "pygments_lexer": "ipython3",
   "version": "3.12.3"
  }
 },
 "nbformat": 4,
 "nbformat_minor": 5
}
