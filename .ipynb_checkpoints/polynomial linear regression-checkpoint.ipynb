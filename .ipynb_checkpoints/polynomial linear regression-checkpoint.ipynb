{
 "cells": [
  {
   "cell_type": "code",
   "execution_count": 131,
   "id": "69706287-ad28-44df-9de5-f2017835b586",
   "metadata": {},
   "outputs": [],
   "source": [
    "import numpy as np\n",
    "import matplotlib.pyplot as plt\n",
    "from sklearn.model_selection import train_test_split\n",
    "from sklearn.metrics import r2_score\n",
    "from sklearn.preprocessing import PolynomialFeatures,StandardScaler\n",
    "import pandas as pd"
   ]
  },
  {
   "cell_type": "code",
   "execution_count": 132,
   "id": "5b2a9181-9b00-42fc-9974-09e6a197e2ff",
   "metadata": {},
   "outputs": [],
   "source": [
    "X = []\n",
    "Y = []\n",
    "for _ in range(1000):\n",
    "    x = np.random.randint(0,100)\n",
    "    y = np.random.randint(0,100)\n",
    "    z = np.random.randint(0,100)\n",
    "\n",
    "    eq = x * 3 + y * 4 + z * 5 + x * y + x * z + z * y + x**2 * 3 + y**2 * 2 + z ** 2 * 7 + x ** 2 * z * 2 + 7 + np.random.randint(0,100)\n",
    "\n",
    "    X.append([x,y,z])\n",
    "    Y.append(eq)\n",
    "\n"
   ]
  },
  {
   "cell_type": "markdown",
   "id": "fe91c6b1-389f-4345-a66d-667b911c0c49",
   "metadata": {},
   "source": [
    "# Feature Scaling. Very very important for gradient descent. Otherwise it does not perform well. See r2_score without exceuting this block"
   ]
  },
  {
   "cell_type": "code",
   "execution_count": 133,
   "id": "41fbe447-79ad-4175-b523-44b3dd81a963",
   "metadata": {},
   "outputs": [],
   "source": [
    "df = pd.DataFrame(X)\n",
    "X_mean = df[:].mean().values.reshape(1,3)\n",
    "X_new = X - X_mean\n",
    "df = pd.DataFrame(X_new)\n",
    "X_max = df[:].max()\n",
    "X_min = df[:].min()\n",
    "X_range = (X_max - X_min).values\n",
    "X_new = X_new/X_range.reshape(1,3)\n",
    "X = X_new"
   ]
  },
  {
   "cell_type": "code",
   "execution_count": 134,
   "id": "1d4e4567-f0cc-4ca1-9b97-df67984075ca",
   "metadata": {},
   "outputs": [],
   "source": [
    "X_train,X_test,y_train,y_test = train_test_split(X,Y,test_size=0.2,random_state=2)"
   ]
  },
  {
   "cell_type": "code",
   "execution_count": 135,
   "id": "17e78428-6f00-44ec-ac94-c4eec910b401",
   "metadata": {},
   "outputs": [],
   "source": [
    "poly = PolynomialFeatures(degree=3,include_bias=True)"
   ]
  },
  {
   "cell_type": "code",
   "execution_count": 136,
   "id": "f0154dc0-227f-461e-8256-adadc332ec44",
   "metadata": {},
   "outputs": [],
   "source": [
    "X_train_poly = poly.fit_transform(X_train)\n",
    "X_test_poly = poly.transform(X_test)"
   ]
  },
  {
   "cell_type": "code",
   "execution_count": 137,
   "id": "e13e4994-b5ab-445d-8b89-9148acfa1589",
   "metadata": {},
   "outputs": [
    {
     "name": "stderr",
     "output_type": "stream",
     "text": [
      "C:\\Users\\shafneaz\\AppData\\Local\\Programs\\Python\\Python312\\Lib\\site-packages\\sklearn\\linear_model\\_stochastic_gradient.py:1616: ConvergenceWarning: Maximum number of iteration reached before convergence. Consider increasing max_iter to improve the fit.\n",
      "  warnings.warn(\n"
     ]
    },
    {
     "data": {
      "text/plain": [
       "0.9987466133996284"
      ]
     },
     "execution_count": 137,
     "metadata": {},
     "output_type": "execute_result"
    }
   ],
   "source": [
    "sgdR = SGDRegressor(max_iter=10000,learning_rate='adaptive',eta0=0.001)\n",
    "sgdR.fit(X_train_poly,y_train)\n",
    "y_pred_sgd = sgdR.predict(X_test_poly)\n",
    "r2_score(y_test,y_pred_sgd)"
   ]
  },
  {
   "cell_type": "code",
   "execution_count": 138,
   "id": "d65f5877-39aa-48dc-810c-0fe8be2e86d2",
   "metadata": {},
   "outputs": [],
   "source": [
    "from sklearn.linear_model import LinearRegression,SGDRegressor"
   ]
  },
  {
   "cell_type": "code",
   "execution_count": 139,
   "id": "18c32c7b-8cf6-4703-9b23-0b359dea4125",
   "metadata": {},
   "outputs": [],
   "source": [
    "lr = LinearRegression()\n",
    "lr.fit(X_train_poly,y_train)\n",
    "y_pred_lin = lr.predict(X_test_poly)"
   ]
  },
  {
   "cell_type": "code",
   "execution_count": 140,
   "id": "773bf13c-d629-4cf5-b104-dad591f20d28",
   "metadata": {},
   "outputs": [
    {
     "data": {
      "text/plain": [
       "0.9999999939140132"
      ]
     },
     "execution_count": 140,
     "metadata": {},
     "output_type": "execute_result"
    }
   ],
   "source": [
    "r2_score(y_test,y_pred_lin)"
   ]
  }
 ],
 "metadata": {
  "kernelspec": {
   "display_name": "Python 3 (ipykernel)",
   "language": "python",
   "name": "python3"
  },
  "language_info": {
   "codemirror_mode": {
    "name": "ipython",
    "version": 3
   },
   "file_extension": ".py",
   "mimetype": "text/x-python",
   "name": "python",
   "nbconvert_exporter": "python",
   "pygments_lexer": "ipython3",
   "version": "3.12.3"
  }
 },
 "nbformat": 4,
 "nbformat_minor": 5
}
