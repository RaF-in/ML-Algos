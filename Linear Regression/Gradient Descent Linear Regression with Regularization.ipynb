{
 "cells": [
  {
   "cell_type": "code",
   "execution_count": 1,
   "id": "93d72143-4476-4c2d-9c5c-5e6647446c1e",
   "metadata": {},
   "outputs": [],
   "source": [
    "from sklearn.model_selection import train_test_split\n",
    "from sklearn.metrics import r2_score\n",
    "import numpy as np\n",
    "from sklearn.datasets import load_diabetes"
   ]
  },
  {
   "cell_type": "code",
   "execution_count": 2,
   "id": "9c30ea0c-eb50-4e66-aa83-335a339c4527",
   "metadata": {},
   "outputs": [],
   "source": [
    "X,y = load_diabetes(return_X_y = True)"
   ]
  },
  {
   "cell_type": "code",
   "execution_count": 3,
   "id": "3c9f2fa7-f748-43e3-8c10-0b03ebcaca10",
   "metadata": {},
   "outputs": [],
   "source": [
    "from sklearn.linear_model import SGDRegressor"
   ]
  },
  {
   "cell_type": "code",
   "execution_count": 4,
   "id": "69b376c8-6b1f-4fa9-9428-b5bdc3202f52",
   "metadata": {},
   "outputs": [],
   "source": [
    "X_train,X_test,y_train,y_test = train_test_split(X,y,test_size=0.2,random_state=4)"
   ]
  },
  {
   "cell_type": "code",
   "execution_count": 32,
   "id": "321add2d-0b0a-4bd9-8d63-0017bf7f6c24",
   "metadata": {},
   "outputs": [
    {
     "data": {
      "text/plain": [
       "0.47225788110076283"
      ]
     },
     "execution_count": 32,
     "metadata": {},
     "output_type": "execute_result"
    }
   ],
   "source": [
    "sgd = SGDRegressor(alpha=0.0001,eta0=0.3,penalty='l2',learning_rate='adaptive')\n",
    "sgd.fit(X_train,y_train)\n",
    "y_pred_sgd = sgd.predict(X_test)\n",
    "r2_score(y_test,y_pred_sgd)"
   ]
  },
  {
   "cell_type": "code",
   "execution_count": 33,
   "id": "3523b5de-1e2c-4448-afb1-bdf0784d824a",
   "metadata": {},
   "outputs": [],
   "source": [
    "from sklearn.linear_model import Ridge"
   ]
  },
  {
   "cell_type": "code",
   "execution_count": 35,
   "id": "00fe061b-7572-4be3-8359-f4102dc5061b",
   "metadata": {},
   "outputs": [
    {
     "data": {
      "text/plain": [
       "0.4612854367917901"
      ]
     },
     "execution_count": 35,
     "metadata": {},
     "output_type": "execute_result"
    }
   ],
   "source": [
    "rdg = Ridge(alpha=0.0001,solver='saga')\n",
    "rdg.fit(X_train,y_train)\n",
    "y_pred_rdg = rdg.predict(X_test)\n",
    "r2_score(y_test,y_pred_rdg)"
   ]
  },
  {
   "cell_type": "code",
   "execution_count": 36,
   "id": "4d29d7fb-8c7b-4842-9361-93cbe58e09ce",
   "metadata": {},
   "outputs": [],
   "source": [
    "class RidgeGD:\n",
    "    def __init__(self,epochs,lr,alpha):\n",
    "        self.epochs = epochs\n",
    "        self.lr = lr\n",
    "        self.alpha = alpha\n",
    "        self.intercept_ = None\n",
    "        self.coef_ = None\n",
    "    def fit(self,X_train,y_train):\n",
    "        X_train = np.insert(X_train,0,1,axis=1)\n",
    "        W = np.ones(X_train.shape[1])\n",
    "        W[0] = 0\n",
    "        for i in range(self.epochs):\n",
    "            der = np.dot(X_train.T,X_train).dot(W) - np.dot(X_train.T,y_train) + self.alpha * W\n",
    "            W = W - self.lr * der\n",
    "        self.intercept_ = W[0]\n",
    "        self.coef_ = W[1:]\n",
    "        print(self.intercept_,self.coef_)\n",
    "    def predict(self,X_test):\n",
    "        return np.dot(X_test,self.coef_) + self.intercept_"
   ]
  },
  {
   "cell_type": "code",
   "execution_count": 42,
   "id": "85174cd0-02c2-4787-ad2d-89a16db5740c",
   "metadata": {},
   "outputs": [
    {
     "name": "stdout",
     "output_type": "stream",
     "text": [
      "150.88290987958032 [  39.68978886 -286.97908953  491.34388521  365.43847958 -310.01003314\n",
      "   79.35980109  -70.71950312  187.2342132   557.62820636   34.05917453]\n"
     ]
    },
    {
     "data": {
      "text/plain": [
       "0.4667868425888133"
      ]
     },
     "execution_count": 42,
     "metadata": {},
     "output_type": "execute_result"
    }
   ],
   "source": [
    "rdgd = RidgeGD(alpha=0.0001,lr=0.005,epochs=10000)\n",
    "rdgd.fit(X_train,y_train)\n",
    "y_pred_rdgd = rdgd.predict(X_test)\n",
    "r2_score(y_test,y_pred_rdgd)"
   ]
  }
 ],
 "metadata": {
  "kernelspec": {
   "display_name": "Python 3 (ipykernel)",
   "language": "python",
   "name": "python3"
  },
  "language_info": {
   "codemirror_mode": {
    "name": "ipython",
    "version": 3
   },
   "file_extension": ".py",
   "mimetype": "text/x-python",
   "name": "python",
   "nbconvert_exporter": "python",
   "pygments_lexer": "ipython3",
   "version": "3.12.3"
  }
 },
 "nbformat": 4,
 "nbformat_minor": 5
}
