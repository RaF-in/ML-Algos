{
 "cells": [
  {
   "cell_type": "code",
   "execution_count": 40,
   "id": "119731bd-c99c-44b2-92d3-e22ce260a0e1",
   "metadata": {},
   "outputs": [],
   "source": [
    "from sklearn.model_selection import train_test_split\n",
    "import numpy as np\n",
    "from sklearn.datasets import load_diabetes"
   ]
  },
  {
   "cell_type": "code",
   "execution_count": 41,
   "id": "3e8c7966-76e9-469b-819e-3d3895f4e1fb",
   "metadata": {},
   "outputs": [],
   "source": [
    "X,y = load_diabetes(return_X_y=True)"
   ]
  },
  {
   "cell_type": "code",
   "execution_count": 42,
   "id": "14ae09cb-9551-41e8-beb3-90fb8d0c097d",
   "metadata": {},
   "outputs": [],
   "source": [
    "X_train,X_test,y_train,y_test = train_test_split(X,y,test_size=0.2,random_state=2)\n"
   ]
  },
  {
   "cell_type": "code",
   "execution_count": 43,
   "id": "285dda22-9618-41bc-af2e-1570b1b480ec",
   "metadata": {},
   "outputs": [],
   "source": [
    "class LinearRegression:\n",
    "    def __init__(self):\n",
    "        self.coef_ = None\n",
    "        self.intercept_ = None\n",
    "    def fit(self,X_train,y_train):\n",
    "        X_train = np.insert(X_train,0,1,axis=1)\n",
    "        betas = np.linalg.inv(np.dot(X_train.T,X_train)).dot(X_train.T).dot(y_train)\n",
    "        self.intercept_ = betas[0]\n",
    "        self.coef_ = betas[1:]\n",
    "    def predict(self,y_test):\n",
    "        return np.dot(X_test,self.coef_) + self.intercept_"
   ]
  },
  {
   "cell_type": "code",
   "execution_count": 44,
   "id": "f59c041c-ab2c-4a25-9472-e2fa870dc815",
   "metadata": {},
   "outputs": [],
   "source": [
    "lr = LinearRegression()"
   ]
  },
  {
   "cell_type": "code",
   "execution_count": 45,
   "id": "b3c56fc1-fdd1-4576-97a0-d46048a99813",
   "metadata": {},
   "outputs": [],
   "source": [
    "lr.fit(X_train,y_train)"
   ]
  },
  {
   "cell_type": "code",
   "execution_count": 46,
   "id": "0a06e509-9202-411d-8d36-201092a5d548",
   "metadata": {},
   "outputs": [],
   "source": [
    "y_pred = lr.predict(X_test)"
   ]
  },
  {
   "cell_type": "code",
   "execution_count": 47,
   "id": "c4fb510d-592b-409e-989f-29bf79e19fe4",
   "metadata": {},
   "outputs": [
    {
     "name": "stdout",
     "output_type": "stream",
     "text": [
      "[154.1213881  204.81835118 124.93755353 106.08950893 258.5348576\n",
      " 256.3310074  118.75087616 119.52440696 101.50816735 190.54048661\n",
      " 141.70656811 172.51883961 174.33861649 134.80942706 294.13994537\n",
      "  94.11798038 211.97059795 156.49579378 134.21000428 119.62664644\n",
      " 148.87842251 165.00873409 151.10021038 176.04063756 133.27769647\n",
      " 221.29555392 197.17324941  96.1577688   50.26012711 230.48580317\n",
      " 242.06073866 114.11129218  67.07532417  94.52943825 201.21415375\n",
      " 167.05136201 159.881268   192.78746659 114.49551325 233.48234551\n",
      " 140.82563045 121.0680409  192.27480772 191.12738845 179.16865788\n",
      " 148.34935601 163.47414622 276.81647884 100.17926432 164.10555298\n",
      " 255.80762189 136.9466204  152.37503699 107.92237882 194.21924678\n",
      "  77.34670792 118.50482479  68.38335763 154.29258529 162.48840259\n",
      " 168.36788326 156.87790322  97.14191797 238.1671215  145.46179904\n",
      " 117.65702433 168.88784311 198.38683887 118.24053714 124.64552812\n",
      " 223.17700368 200.63012386 129.54414666 158.1584765  154.332565\n",
      " 114.47070769  70.44906407  76.3973879  172.41584591  80.56270077\n",
      "  80.2722834   89.46150248 186.21572052 275.46275403 208.26784222\n",
      " 143.79451509 291.28766846 206.32474844  94.22935404]\n"
     ]
    }
   ],
   "source": [
    "print(y_pred)"
   ]
  },
  {
   "cell_type": "code",
   "execution_count": 48,
   "id": "21778298-664e-4375-9f4f-edf46f4da202",
   "metadata": {},
   "outputs": [],
   "source": [
    "from sklearn.metrics import r2_score"
   ]
  },
  {
   "cell_type": "code",
   "execution_count": 49,
   "id": "fa3e786a-b23e-4b3d-97ad-67c148b69c64",
   "metadata": {},
   "outputs": [
    {
     "data": {
      "text/plain": [
       "0.43993386615689756"
      ]
     },
     "execution_count": 49,
     "metadata": {},
     "output_type": "execute_result"
    }
   ],
   "source": [
    "r2_score(y_test,y_pred)"
   ]
  }
 ],
 "metadata": {
  "kernelspec": {
   "display_name": "Python 3 (ipykernel)",
   "language": "python",
   "name": "python3"
  },
  "language_info": {
   "codemirror_mode": {
    "name": "ipython",
    "version": 3
   },
   "file_extension": ".py",
   "mimetype": "text/x-python",
   "name": "python",
   "nbconvert_exporter": "python",
   "pygments_lexer": "ipython3",
   "version": "3.12.3"
  }
 },
 "nbformat": 4,
 "nbformat_minor": 5
}
