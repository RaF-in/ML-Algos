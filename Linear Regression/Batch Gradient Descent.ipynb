{
 "cells": [
  {
   "cell_type": "code",
   "execution_count": 4,
   "id": "d6a97b57-0686-47af-afe6-0c86b235d794",
   "metadata": {},
   "outputs": [],
   "source": [
    "from sklearn.datasets import load_diabetes\n",
    "import numpy as np\n",
    "from sklearn.model_selection import train_test_split\n",
    "from sklearn.metrics import r2_score\n",
    "import pandas as pd"
   ]
  },
  {
   "cell_type": "code",
   "execution_count": 5,
   "id": "530b747f-9b4e-4f38-bf8a-d80bf466ea8c",
   "metadata": {},
   "outputs": [],
   "source": [
    "X,y = load_diabetes(return_X_y = True)\n",
    "df = pd.DataFrame(X)"
   ]
  },
  {
   "cell_type": "markdown",
   "id": "0083b4dc-198a-427d-b328-897cd76b8ebe",
   "metadata": {},
   "source": [
    "# Feature Scaling\n",
    "X = X - X.mean() / X_Range"
   ]
  },
  {
   "cell_type": "code",
   "execution_count": 6,
   "id": "51974d9b-6323-4bf2-88f2-5e9550c6ee41",
   "metadata": {},
   "outputs": [],
   "source": [
    "# Feature Scaling\n",
    "# print((X[:,0] - X[:,0].mean())/(X[:,0].max() - X[:,0].min()))\n",
    "X_mean = df[:].mean().values.reshape(1,10)\n",
    "X_new = X - X_mean\n",
    "df = pd.DataFrame(X_new)\n",
    "X_max = df[:].max()\n",
    "X_min = df[:].min()\n",
    "X_range = (X_max - X_min).values\n",
    "X_new = X_new/X_range.reshape(1,10)\n",
    "X = X_new\n",
    "# print(X_new[:,0])"
   ]
  },
  {
   "cell_type": "code",
   "execution_count": 7,
   "id": "049ee438-2a0e-4271-a74d-2dfe827291e3",
   "metadata": {},
   "outputs": [],
   "source": [
    "X_train,X_test,y_train,y_test = train_test_split(X,y,test_size=0.2,random_state=2)"
   ]
  },
  {
   "cell_type": "code",
   "execution_count": 8,
   "id": "09681e6b-a0ff-423e-a32c-6df073d40caa",
   "metadata": {},
   "outputs": [],
   "source": [
    "import matplotlib.pyplot as plt"
   ]
  },
  {
   "cell_type": "code",
   "execution_count": 9,
   "id": "5c629451-a322-4ace-8a70-d14687196f33",
   "metadata": {},
   "outputs": [],
   "source": [
    "class GDRegressor:\n",
    "    def __init__(self,epochs=100,lr=0.001):\n",
    "        self.epochs = epochs\n",
    "        self.lr = lr\n",
    "        self.coef_ = None\n",
    "        self.intercept_ = None\n",
    "    def fit(self,X_train,y_train):\n",
    "        self.intercept_ = 0\n",
    "        self.coef_ = np.ones(X_train.shape[1])\n",
    "        x_axis = []\n",
    "        costs = []\n",
    "        for _ in range(self.epochs):\n",
    "            y_pred = np.dot(X_train,self.coef_) + self.intercept_\n",
    "            intercept_der = np.mean(y_pred - y_train)\n",
    "            self.intercept_ = self.intercept_ - (self.lr * intercept_der)\n",
    "            coef_der = np.dot(X_train.T,(y_pred - y_train)) / X_train.shape[0]\n",
    "            self.coef_ = self.coef_ - (self.lr * coef_der)\n",
    "            cost = np.dot((y_pred - y_train).T, (y_pred-y_train)) / (2 * X_train.shape[0])\n",
    "            x_axis.append(_)\n",
    "            costs.append(cost)\n",
    "        plt.plot(x_axis,costs)\n",
    "    def predict(self,X_test):\n",
    "        return np.dot(X_test,self.coef_) + self.intercept_"
   ]
  },
  {
   "cell_type": "code",
   "execution_count": 10,
   "id": "3bf6adcf-9dee-4cc8-b0cf-4cabaebd8d7f",
   "metadata": {},
   "outputs": [
    {
     "data": {
      "text/plain": [
       "0.44279020396098645"
      ]
     },
     "execution_count": 10,
     "metadata": {},
     "output_type": "execute_result"
    },
    {
     "data": {
      "image/png": "[encoded data removed]",
      "text/plain": [
       "<Figure size 640x480 with 1 Axes>"
      ]
     },
     "metadata": {},
     "output_type": "display_data"
    }
   ],
   "source": [
    "gdr = GDRegressor(epochs = 800, lr = 0.9)\n",
    "gdr.fit(X_train,y_train)\n",
    "y_pred = gdr.predict(X_test)\n",
    "r2_score(y_test,y_pred)"
   ]
  },
  {
   "cell_type": "code",
   "execution_count": 11,
   "id": "e37608d2-efa4-4182-8135-9c390c2a945f",
   "metadata": {},
   "outputs": [],
   "source": [
    "from sklearn.model_selection import train_test_split\n",
    "from sklearn.linear_model import LinearRegression\n",
    "from sklearn.metrics import r2_score\n",
    "import numpy as np\n",
    "import pandas as pd\n",
    "import matplotlib.pyplot as plt"
   ]
  },
  {
   "cell_type": "code",
   "execution_count": 12,
   "id": "b1aeafe0-ddac-4f1d-9204-ced64e4b8804",
   "metadata": {},
   "outputs": [],
   "source": [
    "from sklearn.datasets import fetch_california_housing\n",
    "data = fetch_california_housing()\n",
    "X_org, y_org = data.data, data.target"
   ]
  },
  {
   "cell_type": "code",
   "execution_count": 13,
   "id": "02c4a873-3e06-4003-8852-95ffcc12bfbf",
   "metadata": {},
   "outputs": [],
   "source": [
    "def applyMeanNormalization(X_real):\n",
    "    X_mean = np.mean(X_real, axis=0)\n",
    "    X_max = np.max(X_real, axis=0)\n",
    "    X_min = np.min(X_real, axis=0)\n",
    "    return (X_real - X_mean) / (X_max - X_min)\n"
   ]
  },
  {
   "cell_type": "code",
   "execution_count": 14,
   "id": "cf12ee52-a548-4766-831c-2f16731376d8",
   "metadata": {},
   "outputs": [
    {
     "name": "stdout",
     "output_type": "stream",
     "text": [
      "1.0\n",
      "[0.76753624 0.45804929 0.96751205 0.97737129 0.96013126 0.99808605\n",
      " 0.67142812 0.52387495] [-0.23246376 -0.54195071 -0.03248795 -0.02262871 -0.03986874 -0.00191395\n",
      " -0.32857188 -0.47612505]\n"
     ]
    }
   ],
   "source": [
    "X, y = applyMeanNormalization(X_org), applyMeanNormalization(y_org)\n",
    "print(np.max(np.max(X, axis=0) - np.min(X, axis=0)))\n",
    "print(np.max(X, axis=0) , np.min(X, axis=0))\n"
   ]
  },
  {
   "cell_type": "code",
   "execution_count": 116,
   "id": "baf0a5c6-c157-4767-a4fd-b9342609c1d0",
   "metadata": {},
   "outputs": [],
   "source": [
    "# Plot the graphs against each feature to see the distrubution of the data. Check if the data is linearly distributed or not\n",
    "# for i in range(0,8):\n",
    "#     plt.subplot(4,2,i+1)\n",
    "#     plt.scatter(X[:,i],y)\n",
    "#     plt.show()"
   ]
  },
  {
   "cell_type": "code",
   "execution_count": 15,
   "id": "7c0f524e-8a46-4904-a17b-85c1bf8b1690",
   "metadata": {},
   "outputs": [
    {
     "name": "stdout",
     "output_type": "stream",
     "text": [
      "20640\n"
     ]
    }
   ],
   "source": [
    "print(y.shape[0])"
   ]
  },
  {
   "cell_type": "code",
   "execution_count": 16,
   "id": "b4dbcffb-a317-4007-9a76-56ab250dd005",
   "metadata": {},
   "outputs": [],
   "source": [
    "class GradinentDes:\n",
    "    def __init__(self, lr = 0.01, epochs=100):\n",
    "        self.coef_ = None\n",
    "        self.intercept_ = None\n",
    "        self.lr = lr\n",
    "        self.epochs = epochs\n",
    "    def fit(self, X_train, y_train):\n",
    "        self.coef_ = np.ones(X_train.shape[1])\n",
    "        self.intercept_ = 0\n",
    "        cost = []\n",
    "        for i in range(self.epochs):\n",
    "            y_hat = np.dot(X_train, self.coef_) + self.intercept_\n",
    "            interceptDer = np.mean(y_hat - y_train)\n",
    "            self.intercept_ = self.intercept_ - interceptDer * self.lr\n",
    "            coef_der = np.dot(y_hat - y_train, X_train) / y_train.shape[0]\n",
    "            self.coef_ = self.coef_ - self.lr * coef_der\n",
    "            cost.append((1 / (2 * X_train.shape[0])) * np.dot((y_hat - y_train).T, (y_hat-y_train)))\n",
    "        \n",
    "        plt.plot(np.arange(0, self.epochs), cost)\n",
    "        plt.show()\n",
    "        return (self.coef_, self.intercept_)\n",
    "    def predict(self, X_test):\n",
    "        return np.dot(X_test, self.coef_) + self.intercept_"
   ]
  },
  {
   "cell_type": "code",
   "execution_count": 17,
   "id": "39589f2c-4d89-46c4-a099-ade867609458",
   "metadata": {},
   "outputs": [],
   "source": [
    "X_train, X_test, y_train, y_test = train_test_split(X,y,test_size=0.2, random_state=2)\n"
   ]
  },
  {
   "cell_type": "code",
   "execution_count": 18,
   "id": "186ea7a4-d876-41a1-a298-4ba936e1915c",
   "metadata": {},
   "outputs": [
    {
     "data": {
      "image/png": "[encoded data removed]",
      "text/plain": [
       "<Figure size 640x480 with 1 Axes>"
      ]
     },
     "metadata": {},
     "output_type": "display_data"
    },
    {
     "data": {
      "text/plain": [
       "(array([ 1.24622672,  0.09711415, -1.99769624,  2.87160693, -0.04331359,\n",
       "        -0.98806939, -0.83045613, -0.90775175]),\n",
       " -7.144829945615949e-05)"
      ]
     },
     "execution_count": 18,
     "metadata": {},
     "output_type": "execute_result"
    }
   ],
   "source": [
    "gdr = GradinentDes(2, 30800)\n",
    "gdr.fit(X_train, y_train)"
   ]
  },
  {
   "cell_type": "code",
   "execution_count": 19,
   "id": "6d7db73e-e01b-4ab3-ab58-8e4b76d98941",
   "metadata": {},
   "outputs": [
    {
     "data": {
      "text/plain": [
       "0.6010181133211345"
      ]
     },
     "execution_count": 19,
     "metadata": {},
     "output_type": "execute_result"
    }
   ],
   "source": [
    "y_pred = gdr.predict(X_test)\n",
    "r2_score(y_test, y_pred)"
   ]
  },
  {
   "cell_type": "code",
   "execution_count": 173,
   "id": "80d2900f-fbde-44f5-b2b5-ae9e575a5318",
   "metadata": {},
   "outputs": [
    {
     "data": {
      "text/plain": [
       "0.5929558942892266"
      ]
     },
     "execution_count": 173,
     "metadata": {},
     "output_type": "execute_result"
    },
    {
     "data": {
      "image/png": "[encoded data removed]",
      "text/plain": [
       "<Figure size 640x480 with 1 Axes>"
      ]
     },
     "metadata": {},
     "output_type": "display_data"
    }
   ],
   "source": [
    "gdrPrev = GDRegressor(800,1.5)\n",
    "gdrPrev.fit(X_train, y_train)\n",
    "y_pred = gdrPrev.predict(X_test)\n",
    "r2_score(y_test, y_pred)"
   ]
  },
  {
   "cell_type": "code",
   "execution_count": 216,
   "id": "f1353de3-aed5-497c-9f90-0bce95d82486",
   "metadata": {},
   "outputs": [],
   "source": [
    "# Use Sk learn Liinar Regression"
   ]
  },
  {
   "cell_type": "code",
   "execution_count": 20,
   "id": "02ae58c7-4cde-4de0-b4cf-d639c4f0bd9f",
   "metadata": {},
   "outputs": [],
   "source": [
    "from sklearn.linear_model import LinearRegression"
   ]
  },
  {
   "cell_type": "code",
   "execution_count": 21,
   "id": "8f1f7985-9723-417b-9e3f-eea1236a3d08",
   "metadata": {},
   "outputs": [
    {
     "data": {
      "text/plain": [
       "0.6013853272055152"
      ]
     },
     "execution_count": 21,
     "metadata": {},
     "output_type": "execute_result"
    }
   ],
   "source": [
    "sklr = LinearRegression()\n",
    "sklr.fit(X_train, y_train)\n",
    "y_pred = sklr.predict(X_test)\n",
    "r2_score(y_test,y_pred)"
   ]
  },
  {
   "cell_type": "code",
   "execution_count": 220,
   "id": "eb250129-f33d-47b6-a2da-ca8a10afb2f5",
   "metadata": {},
   "outputs": [],
   "source": [
    "# Use SGd Regression"
   ]
  },
  {
   "cell_type": "code",
   "execution_count": 22,
   "id": "8d3917dd-6e72-46a6-add5-94f76dfe7035",
   "metadata": {},
   "outputs": [],
   "source": [
    "import time"
   ]
  },
  {
   "cell_type": "code",
   "execution_count": 53,
   "id": "92234dfd-d027-4566-8cfa-869562a29ba3",
   "metadata": {},
   "outputs": [],
   "source": [
    "t0,t1=5,50"
   ]
  },
  {
   "cell_type": "code",
   "execution_count": 54,
   "id": "b65edcbe-1e5d-483c-8056-dcf61fb4c8b9",
   "metadata": {},
   "outputs": [],
   "source": [
    "\n",
    "def learning_rate(t):\n",
    "    return t0 / (t + t1)"
   ]
  },
  {
   "cell_type": "code",
   "execution_count": 55,
   "id": "64b3aaef-2f9e-4d43-92a6-7cad0b8dbfda",
   "metadata": {},
   "outputs": [],
   "source": [
    "class SGradinentDes:\n",
    "    def __init__(self, lr = 0.01, epochs=100):\n",
    "        self.coef_ = None\n",
    "        self.intercept_ = None\n",
    "        self.lr = lr\n",
    "        self.epochs = epochs\n",
    "    def fit(self, X_train, y_train):\n",
    "        self.coef_ = np.ones(X_train.shape[1])\n",
    "        self.intercept_ = 0\n",
    "        cost = []\n",
    "        for i in range(self.epochs):\n",
    "            for j in range(X_train.shape[0]):\n",
    "                self.lr = learning_rate(i * X_train.shape[0] + j)\n",
    "                idx = np.random.randint(0,X_train.shape[0])\n",
    "                y_hat = np.dot(X_train[idx], self.coef_) + self.intercept_\n",
    "                interceptDer = y_hat - y_train[idx]\n",
    "                self.intercept_ = self.intercept_ - interceptDer * self.lr\n",
    "                coef_der = np.dot(y_hat - y_train[idx], X_train[idx]) / y_train.shape[0]\n",
    "                self.coef_ = self.coef_ - self.lr * coef_der\n",
    "                cost.append((1 / (2 * X_train.shape[0])) * np.dot((y_hat - y_train[idx]).T, (y_hat-y_train[idx])))\n",
    "        \n",
    "        plt.plot(np.arange(0,len(cost)), cost)\n",
    "        plt.show()\n",
    "        return (self.coef_, self.intercept_)\n",
    "    def predict(self, X_test):\n",
    "        return np.dot(X_test, self.coef_) + self.intercept_"
   ]
  },
  {
   "cell_type": "code",
   "execution_count": 56,
   "id": "884b25e4-a856-4f08-8194-f7c1cd0cb90d",
   "metadata": {},
   "outputs": [
    {
     "name": "stdout",
     "output_type": "stream",
     "text": [
      "(16512, 8) (16512,)\n"
     ]
    },
    {
     "data": {
      "image/png": "[encoded data removed]",
      "text/plain": [
       "<Figure size 640x480 with 1 Axes>"
      ]
     },
     "metadata": {},
     "output_type": "display_data"
    },
    {
     "data": {
      "text/plain": [
       "-0.43540450904107675"
      ]
     },
     "execution_count": 56,
     "metadata": {},
     "output_type": "execute_result"
    }
   ],
   "source": [
    "sgd = SGradinentDes(0.1, 130)\n",
    "print(X_train.shape, y_train.shape)\n",
    "sgd.fit(X_train, y_train)\n",
    "y_pred = sgd.predict(X_test)\n",
    "r2_score(y_test, y_pred)"
   ]
  }
 ],
 "metadata": {
  "kernelspec": {
   "display_name": "Python 3 (ipykernel)",
   "language": "python",
   "name": "python3"
  },
  "language_info": {
   "codemirror_mode": {
    "name": "ipython",
    "version": 3
   },
   "file_extension": ".py",
   "mimetype": "text/x-python",
   "name": "python",
   "nbconvert_exporter": "python",
   "pygments_lexer": "ipython3",
   "version": "3.12.3"
  }
 },
 "nbformat": 4,
 "nbformat_minor": 5
}
