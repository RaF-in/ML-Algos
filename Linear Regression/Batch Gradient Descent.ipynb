{
 "cells": [
  {
   "cell_type": "code",
   "execution_count": 1,
   "id": "d6a97b57-0686-47af-afe6-0c86b235d794",
   "metadata": {},
   "outputs": [],
   "source": [
    "from sklearn.datasets import load_diabetes\n",
    "import numpy as np\n",
    "from sklearn.model_selection import train_test_split\n",
    "from sklearn.metrics import r2_score\n",
    "import pandas as pd"
   ]
  },
  {
   "cell_type": "code",
   "execution_count": 2,
   "id": "530b747f-9b4e-4f38-bf8a-d80bf466ea8c",
   "metadata": {},
   "outputs": [],
   "source": [
    "X,y = load_diabetes(return_X_y = True)\n",
    "df = pd.DataFrame(X)"
   ]
  },
  {
   "cell_type": "markdown",
   "id": "0083b4dc-198a-427d-b328-897cd76b8ebe",
   "metadata": {},
   "source": [
    "# Feature Scaling\n",
    "X = X - X.mean() / X_Range"
   ]
  },
  {
   "cell_type": "code",
   "execution_count": 3,
   "id": "51974d9b-6323-4bf2-88f2-5e9550c6ee41",
   "metadata": {},
   "outputs": [],
   "source": [
    "# Feature Scaling\n",
    "# print((X[:,0] - X[:,0].mean())/(X[:,0].max() - X[:,0].min()))\n",
    "X_mean = df[:].mean().values.reshape(1,10)\n",
    "X_new = X - X_mean\n",
    "df = pd.DataFrame(X_new)\n",
    "X_max = df[:].max()\n",
    "X_min = df[:].min()\n",
    "X_range = (X_max - X_min).values\n",
    "X_new = X_new/X_range.reshape(1,10)\n",
    "X = X_new\n",
    "# print(X_new[:,0])"
   ]
  },
  {
   "cell_type": "code",
   "execution_count": 4,
   "id": "049ee438-2a0e-4271-a74d-2dfe827291e3",
   "metadata": {},
   "outputs": [],
   "source": [
    "X_train,X_test,y_train,y_test = train_test_split(X,y,test_size=0.2,random_state=2)"
   ]
  },
  {
   "cell_type": "code",
   "execution_count": 5,
   "id": "09681e6b-a0ff-423e-a32c-6df073d40caa",
   "metadata": {},
   "outputs": [],
   "source": [
    "import matplotlib.pyplot as plt"
   ]
  },
  {
   "cell_type": "code",
   "execution_count": 6,
   "id": "5c629451-a322-4ace-8a70-d14687196f33",
   "metadata": {},
   "outputs": [],
   "source": [
    "class GDRegressor:\n",
    "    def __init__(self,epochs=100,lr=0.001):\n",
    "        self.epochs = epochs\n",
    "        self.lr = lr\n",
    "        self.coef_ = None\n",
    "        self.intercept_ = None\n",
    "    def fit(self,X_train,y_train):\n",
    "        self.intercept_ = 0\n",
    "        self.coef_ = np.ones(X_train.shape[1])\n",
    "        x_axis = []\n",
    "        costs = []\n",
    "        for _ in range(self.epochs):\n",
    "            y_pred = np.dot(X_train,self.coef_) + self.intercept_\n",
    "            intercept_der = np.mean(y_pred - y_train)\n",
    "            self.intercept_ = self.intercept_ - (self.lr * intercept_der)\n",
    "            coef_der = np.dot(X_train.T,(y_pred - y_train)) / X_train.shape[0]\n",
    "            self.coef_ = self.coef_ - (self.lr * coef_der)\n",
    "            cost = np.dot((y_pred - y_train).T, (y_pred-y_train)) / (2 * X_train.shape[0])\n",
    "            x_axis.append(_)\n",
    "            costs.append(cost)\n",
    "        plt.plot(x_axis,costs)\n",
    "    def predict(self,X_test):\n",
    "        return np.dot(X_test,self.coef_) + self.intercept_"
   ]
  },
  {
   "cell_type": "code",
   "execution_count": 7,
   "id": "3bf6adcf-9dee-4cc8-b0cf-4cabaebd8d7f",
   "metadata": {},
   "outputs": [
    {
     "data": {
      "text/plain": [
       "0.44279020396098645"
      ]
     },
     "execution_count": 7,
     "metadata": {},
     "output_type": "execute_result"
    },
    {
     "data": {
      "image/png": "[encoded data removed]",
      "text/plain": [
       "<Figure size 640x480 with 1 Axes>"
      ]
     },
     "metadata": {},
     "output_type": "display_data"
    }
   ],
   "source": [
    "gdr = GDRegressor(epochs = 800, lr = 0.9)\n",
    "gdr.fit(X_train,y_train)\n",
    "y_pred = gdr.predict(X_test)\n",
    "r2_score(y_test,y_pred)"
   ]
  }
 ],
 "metadata": {
  "kernelspec": {
   "display_name": "Python 3 (ipykernel)",
   "language": "python",
   "name": "python3"
  },
  "language_info": {
   "codemirror_mode": {
    "name": "ipython",
    "version": 3
   },
   "file_extension": ".py",
   "mimetype": "text/x-python",
   "name": "python",
   "nbconvert_exporter": "python",
   "pygments_lexer": "ipython3",
   "version": "3.12.3"
  }
 },
 "nbformat": 4,
 "nbformat_minor": 5
}
