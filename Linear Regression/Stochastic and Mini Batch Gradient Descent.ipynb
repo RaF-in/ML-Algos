{
 "cells": [
  {
   "cell_type": "code",
   "execution_count": 1,
   "id": "17bbef87-0ef3-4ca0-8c89-9d2dcb9bffac",
   "metadata": {},
   "outputs": [],
   "source": [
    "import numpy as np\n",
    "from sklearn.model_selection import train_test_split\n",
    "from sklearn.metrics import r2_score\n",
    "from sklearn.datasets import load_diabetes"
   ]
  },
  {
   "cell_type": "code",
   "execution_count": 2,
   "id": "30924d28-6a3a-44dc-8a4f-dc00ac59961e",
   "metadata": {},
   "outputs": [],
   "source": [
    "X,y=load_diabetes(return_X_y=True)"
   ]
  },
  {
   "cell_type": "markdown",
   "id": "8f829340-fcd3-4619-b76a-ec62a6d521ea",
   "metadata": {},
   "source": [
    "# not doing feature scaling. Please see batch gradient descent"
   ]
  },
  {
   "cell_type": "code",
   "execution_count": 3,
   "id": "97dfefd4-a180-46c0-82f7-a72278dc36bb",
   "metadata": {},
   "outputs": [
    {
     "name": "stdout",
     "output_type": "stream",
     "text": [
      "(353, 10)\n"
     ]
    }
   ],
   "source": [
    "X_train,X_test,y_train,y_test = train_test_split(X,y,test_size = 0.2,random_state = 2)\n",
    "print(X_train.shape)"
   ]
  },
  {
   "cell_type": "code",
   "execution_count": 4,
   "id": "231d458d-176c-465e-b227-4463fffb7f4e",
   "metadata": {},
   "outputs": [],
   "source": [
    "class SGDRegressor:\n",
    "    def __init__(self,epochs=100,lr=0.001):\n",
    "        self.coef_= None\n",
    "        self.intercept_ = None\n",
    "        self.epochs = epochs\n",
    "        self.lr = lr\n",
    "    def fit(self,X_train,y_train):\n",
    "        self.intercept_ = 0\n",
    "        self.coef_ = np.ones(X_train.shape[1])\n",
    "        for i in range(self.epochs):\n",
    "            for j in range(X_train.shape[0]):\n",
    "                idx = np.random.randint(0,X_train.shape[0])\n",
    "                y_pred = np.dot(X_train[idx],self.coef_) + self.intercept_\n",
    "                intercept_der = y_pred - y_train[idx]\n",
    "                self.intercept_ = self.intercept_ - self.lr * intercept_der\n",
    "                coef_der = X_train[idx].T * (y_pred - y_train[idx])\n",
    "                self.coef_ = self.coef_ - self.lr * coef_der\n",
    "    def predict(self,X_test):\n",
    "        return self.intercept_ + np.dot(X_test,self.coef_)"
   ]
  },
  {
   "cell_type": "code",
   "execution_count": 5,
   "id": "59b58ffb-3b95-4544-9101-92a47d062415",
   "metadata": {},
   "outputs": [
    {
     "data": {
      "text/plain": [
       "0.4330940369328743"
      ]
     },
     "execution_count": 5,
     "metadata": {},
     "output_type": "execute_result"
    }
   ],
   "source": [
    "sgd = SGDRegressor(epochs=100,lr = 0.01)\n",
    "sgd.fit(X_train,y_train)\n",
    "y_pred = sgd.predict(X_test)\n",
    "r2_score(y_test,y_pred)"
   ]
  },
  {
   "cell_type": "code",
   "execution_count": 6,
   "id": "98034087-5c52-4d77-9a58-f5fbe5e180a4",
   "metadata": {},
   "outputs": [],
   "source": [
    "import random"
   ]
  },
  {
   "cell_type": "code",
   "execution_count": 7,
   "id": "15e92b80-f512-409a-b385-e57df713d3cf",
   "metadata": {},
   "outputs": [],
   "source": [
    "class MBGDRegressor:\n",
    "    def __init__(self,batch_size,epochs=100,lr=0.001):\n",
    "        self.coef_= None\n",
    "        self.intercept_ = None\n",
    "        self.epochs = epochs\n",
    "        self.lr = lr\n",
    "        self.batch_size = batch_size\n",
    "    def fit(self,X_train,y_train):\n",
    "        self.intercept_ = 0\n",
    "        self.coef_ = np.ones(X_train.shape[1])\n",
    "        for i in range(self.epochs):\n",
    "            for j in range(int(X_train.shape[0]/self.batch_size)):\n",
    "                idxList = random.sample(range(0,X_train.shape[0]),self.batch_size)\n",
    "                y_pred = np.dot(X_train[idxList],self.coef_) + self.intercept_\n",
    "                intercept_der = np.mean(y_pred - y_train[idxList])\n",
    "                self.intercept_ = self.intercept_ - self.lr * intercept_der\n",
    "                coef_der = np.dot(X_train[idxList].T , (y_pred - y_train[idxList]))\n",
    "                self.coef_ = self.coef_ - self.lr * coef_der\n",
    "    def predict(self,X_test):\n",
    "        return self.intercept_ + np.dot(X_test,self.coef_)"
   ]
  },
  {
   "cell_type": "code",
   "execution_count": 8,
   "id": "1be0a8c5-c663-46f9-b099-16397ff98f07",
   "metadata": {},
   "outputs": [
    {
     "data": {
      "text/plain": [
       "0.44046326227064725"
      ]
     },
     "execution_count": 8,
     "metadata": {},
     "output_type": "execute_result"
    }
   ],
   "source": [
    "mblr = MBGDRegressor(batch_size=X_train.shape[0]//10,epochs=100,lr=0.5)\n",
    "mblr.fit(X_train,y_train)\n",
    "y_pred = mblr.predict(X_test)\n",
    "r2_score(y_test,y_pred)"
   ]
  }
 ],
 "metadata": {
  "kernelspec": {
   "display_name": "Python 3 (ipykernel)",
   "language": "python",
   "name": "python3"
  },
  "language_info": {
   "codemirror_mode": {
    "name": "ipython",
    "version": 3
   },
   "file_extension": ".py",
   "mimetype": "text/x-python",
   "name": "python",
   "nbconvert_exporter": "python",
   "pygments_lexer": "ipython3",
   "version": "3.12.3"
  }
 },
 "nbformat": 4,
 "nbformat_minor": 5
}
